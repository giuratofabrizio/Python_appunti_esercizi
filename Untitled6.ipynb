{
  "nbformat": 4,
  "nbformat_minor": 0,
  "metadata": {
    "colab": {
      "name": "Untitled6.ipynb",
      "provenance": [],
      "collapsed_sections": []
    },
    "kernelspec": {
      "name": "python3",
      "display_name": "Python 3"
    },
    "language_info": {
      "name": "python"
    }
  },
  "cells": [
    {
      "cell_type": "markdown",
      "metadata": {
        "id": "Qb8JjRdIsayI"
      },
      "source": [
        "1. scrivere una funzione chiamata media che dati due numeri restituisca la media. Utilizzare poi la funzione in un programma che acquisisca dall'utente due numeri e calcoli la media"
      ]
    },
    {
      "cell_type": "code",
      "metadata": {
        "colab": {
          "base_uri": "https://localhost:8080/"
        },
        "id": "2XPtJmtTsMX4",
        "outputId": "e1df0250-8190-4b6c-f70b-7a98f151e68c"
      },
      "source": [
        "n1 = int(input())\n",
        "n2 = int(input())\n",
        "\n",
        "def media(n1 , n2):\n",
        " ris = (n1 + n2)/2\n",
        " print(ris)\n",
        "\n",
        "media(n1,n2)\n"
      ],
      "execution_count": null,
      "outputs": [
        {
          "output_type": "stream",
          "name": "stdout",
          "text": [
            "4\n",
            "6\n",
            "5.0\n"
          ]
        }
      ]
    },
    {
      "cell_type": "markdown",
      "metadata": {
        "id": "zIBIr6CwxwIY"
      },
      "source": [
        "2. scrivere una funzione chiamata piuCorta che date due liste restituisca la lista con meno elementi. Utilizzare poi la funzione in un programma che acquisisca dall'utente due liste e visualizzi gli elementi della lista più corta."
      ]
    },
    {
      "cell_type": "code",
      "metadata": {
        "colab": {
          "base_uri": "https://localhost:8080/",
          "height": 128
        },
        "id": "zrOeDtmoxz-Y",
        "outputId": "e54569f1-3365-40d2-fb48-3d2ab6a9a555"
      },
      "source": [
        "def piuCorta(lista1,lista2):\n",
        "  piuCorta = min(lista1,lista2)\n",
        "  return piuCorta\n",
        "piuCorta(lista1,lista2)\n",
        "\n",
        "lst[]\n",
        "\n",
        "n = int(input(\"inserire numero elementi: \"))\n",
        "\n",
        "for i in range(0,n):\n",
        "  e = str(input())\n",
        "  lst.append(e)\n",
        "print(lst)\n",
        "\n",
        "lst[]\n",
        "\n",
        "n2 = int(input(\"inserire numero elementi: \"))\n",
        "\n",
        "for i in range(0,n2):\n",
        "  e = str(input())\n",
        "  lst2.append(e)\n",
        "print(lst2)\n",
        "\n",
        "print(\"La Lista più corta è: \")\n",
        "piuCorta(lst1,lst2)\n",
        "\n"
      ],
      "execution_count": 1,
      "outputs": [
        {
          "output_type": "error",
          "ename": "SyntaxError",
          "evalue": "ignored",
          "traceback": [
            "\u001b[0;36m  File \u001b[0;32m\"<ipython-input-1-ee54c4376e55>\"\u001b[0;36m, line \u001b[0;32m6\u001b[0m\n\u001b[0;31m    lst[]\u001b[0m\n\u001b[0m        ^\u001b[0m\n\u001b[0;31mSyntaxError\u001b[0m\u001b[0;31m:\u001b[0m invalid syntax\n"
          ]
        }
      ]
    },
    {
      "cell_type": "markdown",
      "metadata": {
        "id": "Jal2Wrdlz82J"
      },
      "source": [
        "\n",
        "3. scrivere una funzione chiamata costruisciLista che dati due numeri interi restituisca la lista formata da tutti i numeri interi compresi tra i due numeri dati. Utilizzare poi la funzione in un programma che acquisisca dall'utente due numeri e visualizzi la lista formata da tutti i numeri interi compresi tra i due numeri dati ma a partire dal più grande fino al più piccolo."
      ]
    },
    {
      "cell_type": "code",
      "metadata": {
        "colab": {
          "base_uri": "https://localhost:8080/"
        },
        "id": "c8atxNG-z_lB",
        "outputId": "121d2e3c-0ef8-4e92-a61a-3beb39741376"
      },
      "source": [
        "num1 = int(input())\n",
        "num2 = int(input())\n",
        "listmid = []\n",
        "\n",
        "def costruisciLista(num1,num2):\n",
        "\n",
        " while i < num2:\n",
        "   range(i , num2)\n",
        "\n",
        " print(i)\n",
        " return"
      ],
      "execution_count": null,
      "outputs": [
        {
          "name": "stdout",
          "output_type": "stream",
          "text": [
            "2\n",
            "9\n"
          ]
        }
      ]
    },
    {
      "cell_type": "markdown",
      "metadata": {
        "id": "hV3GzfNkV6U5"
      },
      "source": [
        "5. scrivere una funzione chiamata scambia che data una lista scambi il primo elemento con l'ultimo, il secondo con il penultimo e così via. Utilizzare poi la funzione in un programma che acquisisca dall'utente una lista di 10 elementi e li visualizzi scambiati"
      ]
    },
    {
      "cell_type": "code",
      "metadata": {
        "colab": {
          "base_uri": "https://localhost:8080/"
        },
        "id": "JpL5Hz2nV7c6",
        "outputId": "19043440-ec64-4502-bf57-d78da980457c"
      },
      "source": [
        "def scambia(lista):\n",
        "  for i in lista:\n",
        "    lista.reverse()\n",
        "    print(lista)\n",
        "lista2 = [1,2,3,4,5,6,7,8,9,10]\n",
        "scambia(lista2)"
      ],
      "execution_count": 2,
      "outputs": [
        {
          "output_type": "stream",
          "name": "stdout",
          "text": [
            "[10, 9, 8, 7, 6, 5, 4, 3, 2, 1]\n",
            "[1, 2, 3, 4, 5, 6, 7, 8, 9, 10]\n",
            "[10, 9, 8, 7, 6, 5, 4, 3, 2, 1]\n",
            "[1, 2, 3, 4, 5, 6, 7, 8, 9, 10]\n",
            "[10, 9, 8, 7, 6, 5, 4, 3, 2, 1]\n",
            "[1, 2, 3, 4, 5, 6, 7, 8, 9, 10]\n",
            "[10, 9, 8, 7, 6, 5, 4, 3, 2, 1]\n",
            "[1, 2, 3, 4, 5, 6, 7, 8, 9, 10]\n",
            "[10, 9, 8, 7, 6, 5, 4, 3, 2, 1]\n",
            "[1, 2, 3, 4, 5, 6, 7, 8, 9, 10]\n"
          ]
        }
      ]
    },
    {
      "cell_type": "markdown",
      "metadata": {
        "id": "UXIaRLNuWup5"
      },
      "source": [
        "6. scrivere una funzione lambda che dati due numeri calcoli la loro somma. Utilizzare la funzione in un programma che chieda all'utente due numeri interi e visualizzi la loro somma."
      ]
    },
    {
      "cell_type": "code",
      "metadata": {
        "colab": {
          "base_uri": "https://localhost:8080/"
        },
        "id": "SREy2cucW3ni",
        "outputId": "3c51291b-d9b7-4734-bc40-d5a0ce83ada8"
      },
      "source": [
        "lam = lambda x,y: x + y\n",
        "lam(int(input(' ')), int(input(' ')))"
      ],
      "execution_count": 6,
      "outputs": [
        {
          "name": "stdout",
          "output_type": "stream",
          "text": [
            " 3\n",
            " 25\n"
          ]
        },
        {
          "output_type": "execute_result",
          "data": {
            "text/plain": [
              "28"
            ]
          },
          "metadata": {},
          "execution_count": 6
        }
      ]
    },
    {
      "cell_type": "markdown",
      "metadata": {
        "id": "GDC0qpWLXoWY"
      },
      "source": [
        "7. scrivere un programma che utilizzi una lambda function per aumentare di 10 unità tutti gli elementi di una lista di interi inserita dall'utente."
      ]
    },
    {
      "cell_type": "code",
      "metadata": {
        "colab": {
          "base_uri": "https://localhost:8080/"
        },
        "id": "V3r0EmLMXskd",
        "outputId": "ca00d350-b8f1-4f9f-fa27-31e5b74a1903"
      },
      "source": [
        "lst1 = [1, 4, 12, 3, 40]\n",
        "lista =list(map(lambda x: x + 10, lst1))\n",
        "print(lista)"
      ],
      "execution_count": 8,
      "outputs": [
        {
          "output_type": "stream",
          "name": "stdout",
          "text": [
            "[11, 14, 22, 13, 50]\n"
          ]
        }
      ]
    },
    {
      "cell_type": "markdown",
      "metadata": {
        "id": "kAH5VqXfYP0g"
      },
      "source": [
        "8. scrivere una funzione lambda che sostituisca il valore 0 se il parametro è negativo, il valore del parametro se è positivo. Utilizzare poi la funzione in un programma che chieda all'utente i 10 elementi di una lista e visualizzi la lista con il valore 0 al posto dei numeri negativi."
      ]
    },
    {
      "cell_type": "code",
      "metadata": {
        "colab": {
          "base_uri": "https://localhost:8080/"
        },
        "id": "wu7P_y0oYTF0",
        "outputId": "013f7048-9e87-4b3e-b434-996d82420151"
      },
      "source": [
        "listOne = [-2,-7,-10,-3,-9,7,-5,-1,11,5]\n",
        "lista1 = listOne\n",
        "for i in lista1:\n",
        "  n = listOne[i]\n",
        "  if n < 0:\n",
        "    lista1[n] = 0\n",
        "\n",
        "print(lista1)"
      ],
      "execution_count": 21,
      "outputs": [
        {
          "output_type": "stream",
          "name": "stdout",
          "text": [
            "[-2, -7, -10, 0, -9, 7, -5, 0, 0, 5]\n"
          ]
        }
      ]
    },
    {
      "cell_type": "markdown",
      "metadata": {
        "id": "dzTejaZ4bd9W"
      },
      "source": [
        "9. scrivere un programma che calcoli il fattoriale di un numero utilizzando una lambda function. Provare a realizzare una lambda function ricorsiva"
      ]
    },
    {
      "cell_type": "code",
      "metadata": {
        "colab": {
          "base_uri": "https://localhost:8080/"
        },
        "id": "2t7tEztwbiTY",
        "outputId": "3c815cc5-9680-4536-9422-6122545324bd"
      },
      "source": [
        " a = lambda num : 1 if num <= 1 else num*a(num-1)\n",
        " number = int(input('Numero: '))\n",
        " print( '%d != %d' %(number, a(number)))"
      ],
      "execution_count": 22,
      "outputs": [
        {
          "output_type": "stream",
          "name": "stdout",
          "text": [
            "Numero: 11\n",
            "11 != 39916800\n"
          ]
        }
      ]
    }
  ]
}