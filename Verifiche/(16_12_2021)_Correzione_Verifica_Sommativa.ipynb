{
  "nbformat": 4,
  "nbformat_minor": 0,
  "metadata": {
    "colab": {
      "name": "(16-12-2021)_Correzione_Verifica_Sommativa.ipynb",
      "provenance": []
    },
    "kernelspec": {
      "name": "python3",
      "display_name": "Python 3"
    },
    "language_info": {
      "name": "python"
    }
  },
  "cells": [
    {
      "cell_type": "markdown",
      "source": [
        "# Verifica Sommativa"
      ],
      "metadata": {
        "id": "6wv2xK2o1Isd"
      }
    },
    {
      "cell_type": "code",
      "execution_count": null,
      "metadata": {
        "id": "vMxqyGj0tXw8"
      },
      "outputs": [],
      "source": [
        "import pandas as pd\n",
        "import matplotlib.pyplot as plt"
      ]
    },
    {
      "cell_type": "markdown",
      "source": [
        "# Prima facciata del foglio protocollo"
      ],
      "metadata": {
        "id": "1Mx9X1-avOFy"
      }
    },
    {
      "cell_type": "markdown",
      "source": [
        "1. (0.5 pt.) Caricare in un dataframe le informazioni presenti nel foglio ‘customers’ del file BikeStores\n",
        "presenta al link"
      ],
      "metadata": {
        "id": "gp4d2Vfluj1k"
      }
    },
    {
      "cell_type": "code",
      "source": [
        "df = pd.read_excel('https://github.com/wtitze/3E/blob/main/BikeStores.xls?raw=true', sheet_name= 'customers')\n",
        "df"
      ],
      "metadata": {
        "colab": {
          "base_uri": "https://localhost:8080/",
          "height": 424
        },
        "id": "PLdGXGLut6TD",
        "outputId": "d96e7c2b-ca18-41f6-9b43-620d5e8d9480"
      },
      "execution_count": null,
      "outputs": [
        {
          "output_type": "execute_result",
          "data": {
            "text/html": [
              "<div>\n",
              "<style scoped>\n",
              "    .dataframe tbody tr th:only-of-type {\n",
              "        vertical-align: middle;\n",
              "    }\n",
              "\n",
              "    .dataframe tbody tr th {\n",
              "        vertical-align: top;\n",
              "    }\n",
              "\n",
              "    .dataframe thead th {\n",
              "        text-align: right;\n",
              "    }\n",
              "</style>\n",
              "<table border=\"1\" class=\"dataframe\">\n",
              "  <thead>\n",
              "    <tr style=\"text-align: right;\">\n",
              "      <th></th>\n",
              "      <th>customer_id</th>\n",
              "      <th>first_name</th>\n",
              "      <th>last_name</th>\n",
              "      <th>phone</th>\n",
              "      <th>email</th>\n",
              "      <th>street</th>\n",
              "      <th>city</th>\n",
              "      <th>state</th>\n",
              "      <th>zip_code</th>\n",
              "    </tr>\n",
              "  </thead>\n",
              "  <tbody>\n",
              "    <tr>\n",
              "      <th>0</th>\n",
              "      <td>1</td>\n",
              "      <td>Debra</td>\n",
              "      <td>Burks</td>\n",
              "      <td>NaN</td>\n",
              "      <td>debra.burks@yahoo.com</td>\n",
              "      <td>9273 Thorne Ave.</td>\n",
              "      <td>Orchard Park</td>\n",
              "      <td>NY</td>\n",
              "      <td>14127.0</td>\n",
              "    </tr>\n",
              "    <tr>\n",
              "      <th>1</th>\n",
              "      <td>2</td>\n",
              "      <td>Kasha</td>\n",
              "      <td>Todd</td>\n",
              "      <td>NaN</td>\n",
              "      <td>kasha.todd@yahoo.com</td>\n",
              "      <td>910 Vine Street</td>\n",
              "      <td>Campbell</td>\n",
              "      <td>CA</td>\n",
              "      <td>95008.0</td>\n",
              "    </tr>\n",
              "    <tr>\n",
              "      <th>2</th>\n",
              "      <td>3</td>\n",
              "      <td>Tameka</td>\n",
              "      <td>Fisher</td>\n",
              "      <td>NaN</td>\n",
              "      <td>tameka.fisher@aol.com</td>\n",
              "      <td>769C Honey Creek St.</td>\n",
              "      <td>Redondo Beach</td>\n",
              "      <td>CA</td>\n",
              "      <td>90278.0</td>\n",
              "    </tr>\n",
              "    <tr>\n",
              "      <th>3</th>\n",
              "      <td>4</td>\n",
              "      <td>Daryl</td>\n",
              "      <td>Spence</td>\n",
              "      <td>NaN</td>\n",
              "      <td>daryl.spence@aol.com</td>\n",
              "      <td>988 Pearl Lane</td>\n",
              "      <td>Uniondale</td>\n",
              "      <td>NY</td>\n",
              "      <td>11553.0</td>\n",
              "    </tr>\n",
              "    <tr>\n",
              "      <th>4</th>\n",
              "      <td>5</td>\n",
              "      <td>Charolette</td>\n",
              "      <td>Rice</td>\n",
              "      <td>(916) 381-6003</td>\n",
              "      <td>charolette.rice@msn.com</td>\n",
              "      <td>107 River Dr.</td>\n",
              "      <td>Sacramento</td>\n",
              "      <td>CA</td>\n",
              "      <td>95820.0</td>\n",
              "    </tr>\n",
              "    <tr>\n",
              "      <th>...</th>\n",
              "      <td>...</td>\n",
              "      <td>...</td>\n",
              "      <td>...</td>\n",
              "      <td>...</td>\n",
              "      <td>...</td>\n",
              "      <td>...</td>\n",
              "      <td>...</td>\n",
              "      <td>...</td>\n",
              "      <td>...</td>\n",
              "    </tr>\n",
              "    <tr>\n",
              "      <th>1440</th>\n",
              "      <td>1441</td>\n",
              "      <td>Jamaal</td>\n",
              "      <td>Morrison</td>\n",
              "      <td>NaN</td>\n",
              "      <td>jamaal.morrison@msn.com</td>\n",
              "      <td>796 SE. Nut Swamp St.</td>\n",
              "      <td>Staten Island</td>\n",
              "      <td>NY</td>\n",
              "      <td>10301.0</td>\n",
              "    </tr>\n",
              "    <tr>\n",
              "      <th>1441</th>\n",
              "      <td>1442</td>\n",
              "      <td>Cassie</td>\n",
              "      <td>Cline</td>\n",
              "      <td>NaN</td>\n",
              "      <td>cassie.cline@gmail.com</td>\n",
              "      <td>947 Lafayette Drive</td>\n",
              "      <td>Brooklyn</td>\n",
              "      <td>NY</td>\n",
              "      <td>11201.0</td>\n",
              "    </tr>\n",
              "    <tr>\n",
              "      <th>1442</th>\n",
              "      <td>1443</td>\n",
              "      <td>Lezlie</td>\n",
              "      <td>Lamb</td>\n",
              "      <td>NaN</td>\n",
              "      <td>lezlie.lamb@gmail.com</td>\n",
              "      <td>401 Brandywine Street</td>\n",
              "      <td>Central Islip</td>\n",
              "      <td>NY</td>\n",
              "      <td>11722.0</td>\n",
              "    </tr>\n",
              "    <tr>\n",
              "      <th>1443</th>\n",
              "      <td>1444</td>\n",
              "      <td>Ivette</td>\n",
              "      <td>Estes</td>\n",
              "      <td>NaN</td>\n",
              "      <td>ivette.estes@gmail.com</td>\n",
              "      <td>88 N. Canterbury Ave.</td>\n",
              "      <td>Canandaigua</td>\n",
              "      <td>NY</td>\n",
              "      <td>14424.0</td>\n",
              "    </tr>\n",
              "    <tr>\n",
              "      <th>1444</th>\n",
              "      <td>1445</td>\n",
              "      <td>Ester</td>\n",
              "      <td>Acevedo</td>\n",
              "      <td>NaN</td>\n",
              "      <td>ester.acevedo@gmail.com</td>\n",
              "      <td>671 Miles Court</td>\n",
              "      <td>San Lorenzo</td>\n",
              "      <td>CA</td>\n",
              "      <td>94580.0</td>\n",
              "    </tr>\n",
              "  </tbody>\n",
              "</table>\n",
              "<p>1445 rows × 9 columns</p>\n",
              "</div>"
            ],
            "text/plain": [
              "      customer_id  first_name last_name  ...           city state zip_code\n",
              "0               1       Debra     Burks  ...   Orchard Park    NY  14127.0\n",
              "1               2       Kasha      Todd  ...       Campbell    CA  95008.0\n",
              "2               3      Tameka    Fisher  ...  Redondo Beach    CA  90278.0\n",
              "3               4       Daryl    Spence  ...      Uniondale    NY  11553.0\n",
              "4               5  Charolette      Rice  ...     Sacramento    CA  95820.0\n",
              "...           ...         ...       ...  ...            ...   ...      ...\n",
              "1440         1441      Jamaal  Morrison  ...  Staten Island    NY  10301.0\n",
              "1441         1442      Cassie     Cline  ...       Brooklyn    NY  11201.0\n",
              "1442         1443      Lezlie      Lamb  ...  Central Islip    NY  11722.0\n",
              "1443         1444      Ivette     Estes  ...    Canandaigua    NY  14424.0\n",
              "1444         1445       Ester   Acevedo  ...    San Lorenzo    CA  94580.0\n",
              "\n",
              "[1445 rows x 9 columns]"
            ]
          },
          "metadata": {},
          "execution_count": 3
        }
      ]
    },
    {
      "cell_type": "markdown",
      "source": [
        "2. (1 pt.) Sostituire negli indirizzi la parola ‘St’ alla parola ‘Street’"
      ],
      "metadata": {
        "id": "laHp0wv5ulRD"
      }
    },
    {
      "cell_type": "code",
      "source": [
        "df[\"street\"] = df[\"street\"].str.replace(\"St.\",\"Street\")\n",
        "df"
      ],
      "metadata": {
        "id": "nKAA3d0Duo9L"
      },
      "execution_count": null,
      "outputs": []
    },
    {
      "cell_type": "markdown",
      "source": [
        "3. (1 pt.) Visualizzare la mail dei clienti che abitano in California (CA) ma non a Sacramento"
      ],
      "metadata": {
        "id": "ZjpZYenQuvOL"
      }
    },
    {
      "cell_type": "code",
      "source": [
        "df[(df[\"state\"]== \"CA\") & df[\"city\"] != \"Sacramento\"][\"email\"]"
      ],
      "metadata": {
        "id": "HCdPV8k1uze1"
      },
      "execution_count": null,
      "outputs": []
    },
    {
      "cell_type": "markdown",
      "source": [
        "4. (0.5 pt.) Rinominare la colonna ‘first_name’ in ‘name’ e la colonna’ last_name’ in ‘surname’"
      ],
      "metadata": {
        "id": "D1_DQki0uzvt"
      }
    },
    {
      "cell_type": "code",
      "source": [
        "df = df.rename(columns={\"first_name\": \"name\", \"last_name\":\"surname\"})\n",
        "df "
      ],
      "metadata": {
        "id": "9U8jCGbpvFcs"
      },
      "execution_count": null,
      "outputs": []
    },
    {
      "cell_type": "markdown",
      "source": [
        "# Seconda facciata del foglio protocollo"
      ],
      "metadata": {
        "id": "9mMySuKSvGGj"
      }
    },
    {
      "cell_type": "markdown",
      "source": [
        "5. (1 pt) Creare una nuova colonna che contenga solo i domini degli indirizzi della posta elettronica (es.\n",
        "hotmail.com). Chiamare la nuova colonna ‘domain’"
      ],
      "metadata": {
        "id": "RMwvgk-hvUOj"
      }
    },
    {
      "cell_type": "code",
      "source": [
        "df['domain'] = df['email'].str.split('@').str[1]\n",
        "df"
      ],
      "metadata": {
        "id": "P-8YBY0fvM8z"
      },
      "execution_count": null,
      "outputs": []
    },
    {
      "cell_type": "markdown",
      "source": [
        "6. (1.5 pt) Calcolare il numero di clienti per ogni dominio di posta elettronica. Visualizzare il nome del\n",
        "dominio e il numero di clienti che hanno quel dominio. Ordinare in ordine decrescente sul numero di\n",
        "clienti e visualizzare le informazioni in un grafico a barre verticali. Dare un nome appropriato al titolo\n",
        "del grafico e agli assi"
      ],
      "metadata": {
        "id": "40CI04iUvUuS"
      }
    },
    {
      "cell_type": "code",
      "source": [
        "df2 = df.groupby(\"domain\")[\"name\"].count().sort_values(ascending = False)\n",
        "fig = plt.figure()\n",
        "ax = plt.axes()\n",
        "ax.bar(df2.index,df2.values)\n",
        "fig.suptitle(\"Grafico\")\n",
        "ax.set_xlabel(\"Dominio\")\n",
        "ax.set_ylabel(\"Clienti\")"
      ],
      "metadata": {
        "id": "5H69t8aRvVDF"
      },
      "execution_count": null,
      "outputs": []
    },
    {
      "cell_type": "markdown",
      "source": [
        "# Terza facciata del foglio"
      ],
      "metadata": {
        "id": "hCgIiRblwAlD"
      }
    },
    {
      "cell_type": "markdown",
      "source": [
        "7. (1.5 pt.) Calcolare, per ogni città, il numero di domini e visualizzare le città in cui ci sono almeno 10\n",
        "domini diversi"
      ],
      "metadata": {
        "id": "-MmAfD9yvVSc"
      }
    },
    {
      "cell_type": "code",
      "source": [
        "df3 = df.groupby(\"city\")[\"domain\"].nunique().reset_index()\n",
        "df3[df3[\"domain\"]>=10][\"city\"]  "
      ],
      "metadata": {
        "id": "JghUiKq4vquM"
      },
      "execution_count": null,
      "outputs": []
    },
    {
      "cell_type": "markdown",
      "source": [
        "8. (1 pt.) Visualizzare il cognome più diffuso tra i clienti di BikeStores"
      ],
      "metadata": {
        "id": "5fNg9MvSvvqq"
      }
    },
    {
      "cell_type": "code",
      "source": [
        "cognome = df.groupby(\"surname\")[\"name\"].count().sort_values(ascending=False)\n",
        "cognome.head(1).index"
      ],
      "metadata": {
        "id": "lzhhrLsTvvJH"
      },
      "execution_count": null,
      "outputs": []
    },
    {
      "cell_type": "markdown",
      "source": [
        "9. (1 pt.) Eliminare dal dataframe tutti i clienti che vivono in una zona che ha lo zip_code (analogo al\n",
        "nostro CAP) che comincia con 141 (supporre che lo zip_code sia una stringa)"
      ],
      "metadata": {
        "id": "VZEnK3FPvwqw"
      }
    },
    {
      "cell_type": "code",
      "source": [
        "df = df.drop(df[\"zip_code\"].str.startswith(\"141\"))\n",
        "df"
      ],
      "metadata": {
        "id": "U6y7caKywIEz"
      },
      "execution_count": null,
      "outputs": []
    }
  ]
}