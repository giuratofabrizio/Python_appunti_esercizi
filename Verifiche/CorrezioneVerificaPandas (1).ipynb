{
  "nbformat": 4,
  "nbformat_minor": 0,
  "metadata": {
    "colab": {
      "name": "CorrezioneVerificaPandas.ipynb",
      "provenance": [],
      "collapsed_sections": []
    },
    "kernelspec": {
      "name": "python3",
      "display_name": "Python 3"
    },
    "language_info": {
      "name": "python"
    }
  },
  "cells": [
    {
      "cell_type": "code",
      "metadata": {
        "id": "arVWA2OOdPGj"
      },
      "source": [
        "import pandas as pd"
      ],
      "execution_count": null,
      "outputs": []
    },
    {
      "cell_type": "code",
      "metadata": {
        "id": "m39n763ldmM6"
      },
      "source": [
        "url = ('https://raw.githubusercontent.com/wtitze/3E/main/Medals.xlsx')\n",
        "medals = pd.read_excel(url)\n",
        "medals"
      ],
      "execution_count": null,
      "outputs": []
    },
    {
      "cell_type": "code",
      "metadata": {
        "id": "OTqfede1eUPu"
      },
      "source": [
        "#eliminazione delle ultime due colonne\n",
        "medals.drop(columns = ['Total','Rank by Total'])"
      ],
      "execution_count": null,
      "outputs": []
    },
    {
      "cell_type": "code",
      "metadata": {
        "id": "oIztSsh_fHXA"
      },
      "source": [
        "#eliminazione prima colonna\n",
        "medals.drop(columns = ['Rank'])"
      ],
      "execution_count": null,
      "outputs": []
    },
    {
      "cell_type": "code",
      "metadata": {
        "id": "OWUKLxx3fY-m"
      },
      "source": [
        "medals.rename(columns= {'Team/NOC':'Team'},inplace= True)\n",
        "medals"
      ],
      "execution_count": null,
      "outputs": []
    },
    {
      "cell_type": "markdown",
      "metadata": {
        "id": "4Ma-Osa8L9Rp"
      },
      "source": [
        "# VERIFICA A"
      ]
    },
    {
      "cell_type": "markdown",
      "metadata": {
        "id": "dV9nQq84MCRw"
      },
      "source": [
        "**`ESERCIZI NON RIUSCITI:`**\n",
        "\n",
        "\n",
        "* A.6\n",
        "\n"
      ]
    },
    {
      "cell_type": "markdown",
      "metadata": {
        "id": "-yx3KMbWF9mM"
      },
      "source": [
        "A.1"
      ]
    },
    {
      "cell_type": "code",
      "metadata": {
        "id": "FlHJLvgggB8g"
      },
      "source": [
        "#medaglie d'oro italia\n",
        "medals[medals['Team']=='Italy']['Gold']"
      ],
      "execution_count": null,
      "outputs": []
    },
    {
      "cell_type": "markdown",
      "metadata": {
        "id": "EsKHNJMpF_2c"
      },
      "source": [
        "A.2"
      ]
    },
    {
      "cell_type": "code",
      "metadata": {
        "id": "8iausGLygt3-"
      },
      "source": [
        "#medaglie d'oro nazioni con F\n",
        "medals[medals['Team'].str.startswith('F')][['Team','Gold']]"
      ],
      "execution_count": null,
      "outputs": []
    },
    {
      "cell_type": "markdown",
      "metadata": {
        "id": "F2mVZB3oGCMT"
      },
      "source": [
        "GRAFICO A.2"
      ]
    },
    {
      "cell_type": "code",
      "metadata": {
        "id": "CQaDehH0hdeP"
      },
      "source": [
        "#grafico medaglie d'oro nazioni con F\n",
        "import matplotlib.pyplot as plt\n",
        "x = list(medals[medals['Team'].str.startswith('F')]['Team'])\n",
        "y = list(medals[medals['Team'].str.startswith('F')]['Gold'])\n",
        "fig = plt.figure(figsize=(10,12))\n",
        "plt.rcParams.update({'font.size': 30})\n",
        "ax = plt.axes()\n",
        "ax.bar(x,y)"
      ],
      "execution_count": null,
      "outputs": []
    },
    {
      "cell_type": "markdown",
      "metadata": {
        "id": "PwGYDNGLGgFs"
      },
      "source": [
        "A.3"
      ]
    },
    {
      "cell_type": "code",
      "metadata": {
        "id": "LsqBACc9lQcC"
      },
      "source": [
        "# + colonna totale medaglie\n",
        "medals['Total'] = medals['Bronze'] + medals['Silver'] + medals['Gold']\n",
        "medals"
      ],
      "execution_count": null,
      "outputs": []
    },
    {
      "cell_type": "markdown",
      "metadata": {
        "id": "6nb4j_UmGiRh"
      },
      "source": [
        "A.4"
      ]
    },
    {
      "cell_type": "code",
      "metadata": {
        "id": "WBBZQbR7mH18"
      },
      "source": [
        "#nazione con più medaglie\n",
        "medals[medals['Total']==medals['Total'].max()]['Team']"
      ],
      "execution_count": null,
      "outputs": []
    },
    {
      "cell_type": "markdown",
      "metadata": {
        "id": "1brjivKKGm1V"
      },
      "source": [
        "A.5"
      ]
    },
    {
      "cell_type": "code",
      "metadata": {
        "id": "ghRk2AOBm9HG"
      },
      "source": [
        "medals['Total'].sum()"
      ],
      "execution_count": null,
      "outputs": []
    },
    {
      "cell_type": "markdown",
      "metadata": {
        "id": "8BJcxK4OGoVp"
      },
      "source": [
        "A.2.0"
      ]
    },
    {
      "cell_type": "code",
      "metadata": {
        "id": "cP55qxA3GrW4"
      },
      "source": [
        "teams = pd.read_excel('https://raw.githubusercontent.com/wtitze/3E/main/Teams.xlsx')\n",
        "teams"
      ],
      "execution_count": null,
      "outputs": []
    },
    {
      "cell_type": "markdown",
      "metadata": {
        "id": "JsRML9tZHCiS"
      },
      "source": [
        "A.2.1"
      ]
    },
    {
      "cell_type": "code",
      "metadata": {
        "id": "ZzFOhhgFHGiz"
      },
      "source": [
        "teams[teams['Event'] == 'Men'][['Discipline']]"
      ],
      "execution_count": null,
      "outputs": []
    },
    {
      "cell_type": "markdown",
      "metadata": {
        "id": "FdEI8bSGHJdD"
      },
      "source": [
        "A.2.2"
      ]
    },
    {
      "cell_type": "code",
      "metadata": {
        "id": "5ltSgeKRHL56"
      },
      "source": [
        "teams[teams['Event'] == 'Women'][['Discipline']]"
      ],
      "execution_count": null,
      "outputs": []
    },
    {
      "cell_type": "markdown",
      "metadata": {
        "id": "fhSkANs3HP2O"
      },
      "source": [
        "A.2.3"
      ]
    },
    {
      "cell_type": "code",
      "metadata": {
        "id": "yG8EX9H7HSQo"
      },
      "source": [
        "teams.groupby('Name')['Discipline'].count().sort_values(ascending = False)"
      ],
      "execution_count": null,
      "outputs": []
    },
    {
      "cell_type": "markdown",
      "metadata": {
        "id": "kHxjbui1HX1W"
      },
      "source": [
        "A.2.4"
      ]
    },
    {
      "cell_type": "code",
      "metadata": {
        "id": "RPxt0zNtHaCg"
      },
      "source": [
        "teams.groupby('Discipline')['Name'].count().sort_values(ascending = False)"
      ],
      "execution_count": null,
      "outputs": []
    },
    {
      "cell_type": "markdown",
      "metadata": {
        "id": "SIY8AOIxHlH9"
      },
      "source": [
        "A.2.5"
      ]
    },
    {
      "cell_type": "code",
      "metadata": {
        "id": "GrQnnvOaHmOJ"
      },
      "source": [
        "teams1 = teams.groupby('Name').count()\n",
        "z = teams1['NOC'].max()\n",
        "teams1.loc[teams1['NOC'] == z, ['NOC']]"
      ],
      "execution_count": null,
      "outputs": []
    },
    {
      "cell_type": "markdown",
      "metadata": {
        "id": "Igpe9DcYHnR7"
      },
      "source": [
        "A.2.6"
      ]
    },
    {
      "cell_type": "code",
      "metadata": {
        "id": "w-4NeVt9Hpfg"
      },
      "source": [
        "teams.drop(columns= ['Event'])"
      ],
      "execution_count": null,
      "outputs": []
    },
    {
      "cell_type": "markdown",
      "metadata": {
        "id": "F2Nww9qqIVfD"
      },
      "source": [
        "A.2.7"
      ]
    },
    {
      "cell_type": "code",
      "metadata": {
        "id": "gOJDFqlFIXD6"
      },
      "source": [
        "teams.rename(columns= {'NOC' : 'Name'}, inplace=True)\n",
        "teams"
      ],
      "execution_count": null,
      "outputs": []
    },
    {
      "cell_type": "markdown",
      "metadata": {
        "id": "vkhCKaOkIqLa"
      },
      "source": [
        "# VERIFICA B"
      ]
    },
    {
      "cell_type": "markdown",
      "metadata": {
        "id": "qv82AvOwLQDs"
      },
      "source": [
        "## **`esercizi non riusciti:`**\n",
        "\n",
        "*   B.1.1\n",
        "*   B.1.2\n",
        "*   B.1.6"
      ]
    },
    {
      "cell_type": "code",
      "metadata": {
        "id": "kEs_hytjIx7u"
      },
      "source": [
        "athlets = pd.read_excel('https://raw.githubusercontent.com/wtitze/3E/main/Athletes.xlsx')\n",
        "athlets"
      ],
      "execution_count": null,
      "outputs": []
    },
    {
      "cell_type": "markdown",
      "metadata": {
        "id": "bnp1WAbMIieW"
      },
      "source": [
        "B.1.3"
      ]
    },
    {
      "cell_type": "code",
      "metadata": {
        "id": "ifzzEHEjIklt"
      },
      "source": [
        "athlets['Total'] = athlets.groupby('Discipline')['Name'].count()\n",
        "athlets"
      ],
      "execution_count": null,
      "outputs": []
    },
    {
      "cell_type": "markdown",
      "metadata": {
        "id": "Lytt5Th_I7gR"
      },
      "source": [
        "B.1.4"
      ]
    },
    {
      "cell_type": "code",
      "metadata": {
        "id": "y7cvf60dI-AH"
      },
      "source": [
        "athlets1 = athlets.groupby('NOC').count()\n",
        "z = athlets1['Name'].max()\n",
        "athlets1.loc[athlets1['Name'] == z, ['Name']]"
      ],
      "execution_count": null,
      "outputs": []
    },
    {
      "cell_type": "markdown",
      "metadata": {
        "id": "04htl90kJBo-"
      },
      "source": [
        "B.1.5"
      ]
    },
    {
      "cell_type": "code",
      "metadata": {
        "id": "TwBMo1lyJD_u"
      },
      "source": [
        "athlets['Name'].count()"
      ],
      "execution_count": null,
      "outputs": []
    },
    {
      "cell_type": "markdown",
      "metadata": {
        "id": "fItA9CALJkHJ"
      },
      "source": [
        "B.2.0"
      ]
    },
    {
      "cell_type": "code",
      "metadata": {
        "id": "4wGsDvdvJavI"
      },
      "source": [
        "coaches = pd.read_excel('https://raw.githubusercontent.com/wtitze/3E/main/Coaches.xlsx')\n",
        "coaches"
      ],
      "execution_count": null,
      "outputs": []
    },
    {
      "cell_type": "markdown",
      "metadata": {
        "id": "bZALVSzlJHq0"
      },
      "source": [
        "B.2.1"
      ]
    },
    {
      "cell_type": "code",
      "metadata": {
        "id": "8nDzgvo6JJAH"
      },
      "source": [
        "coaches.groupby('NOC')['Name'].count().sort_values(ascending = False)"
      ],
      "execution_count": null,
      "outputs": []
    },
    {
      "cell_type": "markdown",
      "metadata": {
        "id": "YQ__Sk9oJfMg"
      },
      "source": [
        "B.2.2"
      ]
    },
    {
      "cell_type": "code",
      "metadata": {
        "id": "bDl-hPsoJhce"
      },
      "source": [
        "coaches.groupby('Discipline')['Name'].count().sort_values(ascending = False)"
      ],
      "execution_count": null,
      "outputs": []
    },
    {
      "cell_type": "markdown",
      "metadata": {
        "id": "0NtFapSVJpQR"
      },
      "source": [
        "B.2.3"
      ]
    },
    {
      "cell_type": "code",
      "metadata": {
        "id": "nsgZZIiPJqwB"
      },
      "source": [
        "coaches1 = coaches.groupby('NOC').count()\n",
        "z = coaches1['Name'].max()\n",
        "coaches1.loc[coaches1['Name'] == z, ['Name']]"
      ],
      "execution_count": null,
      "outputs": []
    },
    {
      "cell_type": "markdown",
      "metadata": {
        "id": "ge0-EOlUKcCu"
      },
      "source": [
        "B.2.4"
      ]
    },
    {
      "cell_type": "code",
      "metadata": {
        "id": "OCSguO8BKdoa"
      },
      "source": [
        "coaches1 = coaches.groupby('NOC').count()\n",
        "media = coaches.groupby('NOC').count().mean()['Name']\n",
        "coaches1.loc[coaches1['Name'] >= media] ['Name']"
      ],
      "execution_count": null,
      "outputs": []
    },
    {
      "cell_type": "markdown",
      "metadata": {
        "id": "lUe7STKKKgc9"
      },
      "source": [
        "B.2.5"
      ]
    },
    {
      "cell_type": "code",
      "metadata": {
        "id": "29_claA2KiDe"
      },
      "source": [
        "coaches.drop(columns= ['Name'])"
      ],
      "execution_count": null,
      "outputs": []
    },
    {
      "cell_type": "markdown",
      "metadata": {
        "id": "i1htV7EGKk5Q"
      },
      "source": [
        "B.2.6"
      ]
    },
    {
      "cell_type": "code",
      "metadata": {
        "id": "j0ZsBDdmKmTy"
      },
      "source": [
        "coaches.rename(columns= {'NOC' : 'Name'}, inplace=True)\n",
        "coaches"
      ],
      "execution_count": null,
      "outputs": []
    }
  ]
}