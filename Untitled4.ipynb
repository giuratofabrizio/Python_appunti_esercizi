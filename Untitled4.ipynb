{
  "nbformat": 4,
  "nbformat_minor": 0,
  "metadata": {
    "colab": {
      "name": "Untitled4.ipynb",
      "provenance": []
    },
    "kernelspec": {
      "name": "python3",
      "display_name": "Python 3"
    },
    "language_info": {
      "name": "python"
    }
  },
  "cells": [
    {
      "cell_type": "markdown",
      "metadata": {
        "id": "HRLyMdZbhUtP"
      },
      "source": [
        "a. far inserie all'utente due valori interi"
      ]
    },
    {
      "cell_type": "code",
      "metadata": {
        "colab": {
          "base_uri": "https://localhost:8080/"
        },
        "id": "3sHjNHQIg8N4",
        "outputId": "eb7914e0-8962-479e-deff-0eb9e42e59df"
      },
      "source": [
        "num1= int(input(\"inserire il primo valore:\"))\n",
        "num2= int(input(\"inserire il secondo valore\"))"
      ],
      "execution_count": 4,
      "outputs": [
        {
          "name": "stdout",
          "output_type": "stream",
          "text": [
            "inserire il primo valore:4\n",
            "inserire il secondo valore2\n"
          ]
        }
      ]
    },
    {
      "cell_type": "markdown",
      "metadata": {
        "id": "elDgWfKqiJqh"
      },
      "source": [
        "b. effettuare le 4 operazioni aritmetiche tra i due numeri"
      ]
    },
    {
      "cell_type": "code",
      "metadata": {
        "colab": {
          "base_uri": "https://localhost:8080/"
        },
        "id": "ne0bNEgYiPdB",
        "outputId": "c012450f-cff0-4703-8f7d-13bebbf94b20"
      },
      "source": [
        "print(\"num1 + num2 = \" + str(num1 + num2))\n",
        "print(\"num1 - num2 = \" + str(num1 - num2))\n",
        "print(\"num1 * num2 = \" + str(num1 * num2))\n",
        "print(\"num1 / num2 = \" + str(num1 / num2))"
      ],
      "execution_count": 8,
      "outputs": [
        {
          "output_type": "stream",
          "name": "stdout",
          "text": [
            "num1 + num2 = 6\n",
            "num1 - num2 = 2\n",
            "num1 * num2 = 8\n",
            "num1 / num2 = 2.0\n"
          ]
        }
      ]
    },
    {
      "cell_type": "markdown",
      "metadata": {
        "id": "QFtvFx_CkdLr"
      },
      "source": [
        "c. effettuare l'elevamento a potenza del primo numero per il secondo"
      ]
    },
    {
      "cell_type": "code",
      "metadata": {
        "colab": {
          "base_uri": "https://localhost:8080/"
        },
        "id": "_Qf8cs24kgGK",
        "outputId": "79dcaf81-e6aa-4202-c715-3c20b054db85"
      },
      "source": [
        "print(\"num1 ** num2 = \" + str(num1**num2))"
      ],
      "execution_count": 9,
      "outputs": [
        {
          "output_type": "stream",
          "name": "stdout",
          "text": [
            "num1 ** num2 = 16\n"
          ]
        }
      ]
    },
    {
      "cell_type": "markdown",
      "metadata": {
        "id": "ewqy3_rFkzIu"
      },
      "source": [
        "d. effettuare il calcolo del resto della divisione tra il primo e il secondo numero"
      ]
    },
    {
      "cell_type": "code",
      "metadata": {
        "colab": {
          "base_uri": "https://localhost:8080/"
        },
        "id": "9d9k8466k2FO",
        "outputId": "748cf97c-bf68-41fb-de57-0f9b0a602467"
      },
      "source": [
        "print(\"num1 % num2 = \" + str(num1%num2))"
      ],
      "execution_count": 10,
      "outputs": [
        {
          "output_type": "stream",
          "name": "stdout",
          "text": [
            "num1 % num2 = 0\n"
          ]
        }
      ]
    },
    {
      "cell_type": "markdown",
      "metadata": {
        "id": "NABWIomelDH_"
      },
      "source": [
        "f. effettuare la divisione intera tra il primo e il secondo numero"
      ]
    },
    {
      "cell_type": "code",
      "metadata": {
        "colab": {
          "base_uri": "https://localhost:8080/"
        },
        "id": "qS9SwhwzlII-",
        "outputId": "64c7e781-c025-43e9-fe93-260dd8a8dd5c"
      },
      "source": [
        "print(\"num1 // num2 =\" + str(num1//num2))"
      ],
      "execution_count": 11,
      "outputs": [
        {
          "output_type": "stream",
          "name": "stdout",
          "text": [
            "num1 // num2 =2\n"
          ]
        }
      ]
    },
    {
      "cell_type": "markdown",
      "metadata": {
        "id": "Aw1J2hH1lWk-"
      },
      "source": [
        "g. incrementare di una unità entrambi i numeri"
      ]
    },
    {
      "cell_type": "code",
      "metadata": {
        "colab": {
          "base_uri": "https://localhost:8080/"
        },
        "id": "Igg38TyMlcfO",
        "outputId": "2f579847-e0c0-4e64-b78a-187a89e9b89e"
      },
      "source": [
        "num1 += 1\n",
        "num2 += 1\n",
        "print(\"variabile num1 incrementata = \" + str(num1))\n",
        "print(\"variabile num2 incrementata = \" + str(num2))"
      ],
      "execution_count": 22,
      "outputs": [
        {
          "output_type": "stream",
          "name": "stdout",
          "text": [
            "variabile num1 incrementata = 8\n",
            "variabile num2 incrementata = 6\n"
          ]
        }
      ]
    },
    {
      "cell_type": "markdown",
      "metadata": {
        "id": "IBr4qp5pm_SU"
      },
      "source": [
        "h. far inserie all'utente due valori: il primo rappresenta la sua altezza (in metri) e il secondo rappresenta il suo peso (in kg). Visualizzare poi l'IMC (google it...)"
      ]
    },
    {
      "cell_type": "code",
      "metadata": {
        "colab": {
          "base_uri": "https://localhost:8080/"
        },
        "id": "lbWCRu-dnHU0",
        "outputId": "2524bbb7-266c-434b-ead0-178e114c1bff"
      },
      "source": [
        "nval1= float(input(\"inserire l'altezza (m): \"))\n",
        "nval2= int(input(\"inserire il peso (Kg): \"))\n",
        "\n",
        "IMC = nval2 / (nval1**2)\n",
        "\n",
        "print(\"IMC = \" + str(IMC))"
      ],
      "execution_count": 30,
      "outputs": [
        {
          "output_type": "stream",
          "name": "stdout",
          "text": [
            "inserire l'altezza (m): 1.70\n",
            "inserire il peso (Kg): 55\n",
            "IMC = 19.031141868512112\n"
          ]
        }
      ]
    },
    {
      "cell_type": "markdown",
      "metadata": {
        "id": "ieI5IjGxstqR"
      },
      "source": [
        "i. arrotondare l'IMC precedente\n"
      ]
    },
    {
      "cell_type": "code",
      "metadata": {
        "colab": {
          "base_uri": "https://localhost:8080/"
        },
        "id": "d63WqWkdsvL7",
        "outputId": "6b62720a-520f-467b-8ccf-dc6a395feea6"
      },
      "source": [
        "IMCrounded = round(IMC)\n",
        "print(\"Rounded IMC = \" + str(IMCrounded))"
      ],
      "execution_count": 32,
      "outputs": [
        {
          "output_type": "stream",
          "name": "stdout",
          "text": [
            "Rounded IMC = 19\n"
          ]
        }
      ]
    },
    {
      "cell_type": "markdown",
      "metadata": {
        "id": "tp-ErsXxtx_z"
      },
      "source": [
        "j. visualizzare il proprio nome, cognome, data di nascita e città di nascita separando le informazioni con un trattino."
      ]
    },
    {
      "cell_type": "code",
      "metadata": {
        "colab": {
          "base_uri": "https://localhost:8080/"
        },
        "id": "2PdBHTB4t1oS",
        "outputId": "65362c66-c704-469f-e7d2-3923c89fda52"
      },
      "source": [
        "Name = (input(\"Inserire Nome: \"))\n",
        "Surname = (input(\"Inserire Cognome: \"))\n",
        "BirthDay = (input(\"Inserire Compleanno: \"))\n",
        "BirthCity = (input(\"Inserire Città di nascita: \"))\n",
        "\n",
        "print(\"Informazioni Personali: \" + str(Name) + \" - \" + str(Surname) + \" - \" + str(BirthDay) + \" - \" + str(BirthCity))"
      ],
      "execution_count": 41,
      "outputs": [
        {
          "output_type": "stream",
          "name": "stdout",
          "text": [
            "Inserire Nome: Fabrizio\n",
            "Inserire Cognome: Giurato\n",
            "Inserire Compleanno: 24/03/2005\n",
            "Inserire Città di nascita: Milano\n",
            "Informazioni Personali:  - Fabrizio - Giurato - 24/03/2005 - Milano\n"
          ]
        }
      ]
    },
    {
      "cell_type": "markdown",
      "metadata": {
        "id": "ijvlm24RxPBB"
      },
      "source": [
        "k. visualizzare le stesse informazioni per 10 volte di seguito"
      ]
    },
    {
      "cell_type": "code",
      "metadata": {
        "colab": {
          "base_uri": "https://localhost:8080/"
        },
        "id": "-kiT9e66xQoh",
        "outputId": "28858f7d-f315-4c9f-c6bc-ea382626339e"
      },
      "source": [
        "print((\"Informazioni Personali: \" + str(Name) + \" - \" + str(Surname) + \" - \" + str(BirthDay) + \" - \" + str(BirthCity))*10)"
      ],
      "execution_count": 42,
      "outputs": [
        {
          "output_type": "stream",
          "name": "stdout",
          "text": [
            "Informazioni Personali: Fabrizio - Giurato - 24/03/2005 - MilanoInformazioni Personali: Fabrizio - Giurato - 24/03/2005 - MilanoInformazioni Personali: Fabrizio - Giurato - 24/03/2005 - MilanoInformazioni Personali: Fabrizio - Giurato - 24/03/2005 - MilanoInformazioni Personali: Fabrizio - Giurato - 24/03/2005 - MilanoInformazioni Personali: Fabrizio - Giurato - 24/03/2005 - MilanoInformazioni Personali: Fabrizio - Giurato - 24/03/2005 - MilanoInformazioni Personali: Fabrizio - Giurato - 24/03/2005 - MilanoInformazioni Personali: Fabrizio - Giurato - 24/03/2005 - MilanoInformazioni Personali: Fabrizio - Giurato - 24/03/2005 - Milano\n"
          ]
        }
      ]
    },
    {
      "cell_type": "markdown",
      "metadata": {
        "id": "ZmqB-2WY0Fnp"
      },
      "source": [
        "l. assegnare il proprio nome e cognome ad una stringa e visualizzarla con tutte le lettere maiuscole"
      ]
    },
    {
      "cell_type": "code",
      "metadata": {
        "colab": {
          "base_uri": "https://localhost:8080/",
          "height": 180
        },
        "id": "LpIJHMYK0KnY",
        "outputId": "43cf3286-f3fd-4989-b0a4-26221929d740"
      },
      "source": [
        "print(upper(str(Name)))\n",
        "print(str(Surname)upper())"
      ],
      "execution_count": 43,
      "outputs": [
        {
          "output_type": "error",
          "ename": "NameError",
          "evalue": "ignored",
          "traceback": [
            "\u001b[0;31m---------------------------------------------------------------------------\u001b[0m",
            "\u001b[0;31mNameError\u001b[0m                                 Traceback (most recent call last)",
            "\u001b[0;32m<ipython-input-43-06439fc94385>\u001b[0m in \u001b[0;36m<module>\u001b[0;34m()\u001b[0m\n\u001b[0;32m----> 1\u001b[0;31m \u001b[0mprint\u001b[0m\u001b[0;34m(\u001b[0m\u001b[0mupper\u001b[0m\u001b[0;34m(\u001b[0m\u001b[0mstr\u001b[0m\u001b[0;34m(\u001b[0m\u001b[0mName\u001b[0m\u001b[0;34m)\u001b[0m\u001b[0;34m)\u001b[0m\u001b[0;34m)\u001b[0m\u001b[0;34m\u001b[0m\u001b[0;34m\u001b[0m\u001b[0m\n\u001b[0m\u001b[1;32m      2\u001b[0m \u001b[0mprint\u001b[0m\u001b[0;34m(\u001b[0m\u001b[0mupper\u001b[0m\u001b[0;34m(\u001b[0m\u001b[0mstr\u001b[0m\u001b[0;34m(\u001b[0m\u001b[0mSurname\u001b[0m\u001b[0;34m)\u001b[0m\u001b[0;34m)\u001b[0m\u001b[0;34m)\u001b[0m\u001b[0;34m\u001b[0m\u001b[0;34m\u001b[0m\u001b[0m\n",
            "\u001b[0;31mNameError\u001b[0m: name 'upper' is not defined"
          ]
        }
      ]
    }
  ]
}