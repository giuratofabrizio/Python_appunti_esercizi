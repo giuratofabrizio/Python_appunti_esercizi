{
  "nbformat": 4,
  "nbformat_minor": 0,
  "metadata": {
    "colab": {
      "name": "1.Es.Python.ipynb",
      "provenance": [],
      "collapsed_sections": []
    },
    "kernelspec": {
      "name": "python3",
      "display_name": "Python 3"
    },
    "language_info": {
      "name": "python"
    }
  },
  "cells": [
    {
      "cell_type": "markdown",
      "metadata": {
        "id": "HRLyMdZbhUtP"
      },
      "source": [
        "a. far inserie all'utente due valori interi"
      ]
    },
    {
      "cell_type": "code",
      "metadata": {
        "colab": {
          "base_uri": "https://localhost:8080/"
        },
        "id": "3sHjNHQIg8N4",
        "outputId": "eb7914e0-8962-479e-deff-0eb9e42e59df"
      },
      "source": [
        "num1= int(input(\"inserire il primo valore:\"))\n",
        "num2= int(input(\"inserire il secondo valore\"))"
      ],
      "execution_count": null,
      "outputs": [
        {
          "name": "stdout",
          "output_type": "stream",
          "text": [
            "inserire il primo valore:4\n",
            "inserire il secondo valore2\n"
          ]
        }
      ]
    },
    {
      "cell_type": "markdown",
      "metadata": {
        "id": "elDgWfKqiJqh"
      },
      "source": [
        "b. effettuare le 4 operazioni aritmetiche tra i due numeri"
      ]
    },
    {
      "cell_type": "code",
      "metadata": {
        "colab": {
          "base_uri": "https://localhost:8080/"
        },
        "id": "ne0bNEgYiPdB",
        "outputId": "c012450f-cff0-4703-8f7d-13bebbf94b20"
      },
      "source": [
        "print(\"num1 + num2 = \" + str(num1 + num2))\n",
        "print(\"num1 - num2 = \" + str(num1 - num2))\n",
        "print(\"num1 * num2 = \" + str(num1 * num2))\n",
        "print(\"num1 / num2 = \" + str(num1 / num2))"
      ],
      "execution_count": null,
      "outputs": [
        {
          "output_type": "stream",
          "name": "stdout",
          "text": [
            "num1 + num2 = 6\n",
            "num1 - num2 = 2\n",
            "num1 * num2 = 8\n",
            "num1 / num2 = 2.0\n"
          ]
        }
      ]
    },
    {
      "cell_type": "markdown",
      "metadata": {
        "id": "QFtvFx_CkdLr"
      },
      "source": [
        "c. effettuare l'elevamento a potenza del primo numero per il secondo"
      ]
    },
    {
      "cell_type": "code",
      "metadata": {
        "colab": {
          "base_uri": "https://localhost:8080/"
        },
        "id": "_Qf8cs24kgGK",
        "outputId": "79dcaf81-e6aa-4202-c715-3c20b054db85"
      },
      "source": [
        "print(\"num1 ** num2 = \" + str(num1**num2))"
      ],
      "execution_count": null,
      "outputs": [
        {
          "output_type": "stream",
          "name": "stdout",
          "text": [
            "num1 ** num2 = 16\n"
          ]
        }
      ]
    },
    {
      "cell_type": "markdown",
      "metadata": {
        "id": "ewqy3_rFkzIu"
      },
      "source": [
        "d. effettuare il calcolo del resto della divisione tra il primo e il secondo numero"
      ]
    },
    {
      "cell_type": "code",
      "metadata": {
        "colab": {
          "base_uri": "https://localhost:8080/"
        },
        "id": "9d9k8466k2FO",
        "outputId": "748cf97c-bf68-41fb-de57-0f9b0a602467"
      },
      "source": [
        "print(\"num1 % num2 = \" + str(num1%num2))"
      ],
      "execution_count": null,
      "outputs": [
        {
          "output_type": "stream",
          "name": "stdout",
          "text": [
            "num1 % num2 = 0\n"
          ]
        }
      ]
    },
    {
      "cell_type": "markdown",
      "metadata": {
        "id": "NABWIomelDH_"
      },
      "source": [
        "f. effettuare la divisione intera tra il primo e il secondo numero"
      ]
    },
    {
      "cell_type": "code",
      "metadata": {
        "colab": {
          "base_uri": "https://localhost:8080/"
        },
        "id": "qS9SwhwzlII-",
        "outputId": "64c7e781-c025-43e9-fe93-260dd8a8dd5c"
      },
      "source": [
        "print(\"num1 // num2 =\" + str(num1//num2))"
      ],
      "execution_count": null,
      "outputs": [
        {
          "output_type": "stream",
          "name": "stdout",
          "text": [
            "num1 // num2 =2\n"
          ]
        }
      ]
    },
    {
      "cell_type": "markdown",
      "metadata": {
        "id": "Aw1J2hH1lWk-"
      },
      "source": [
        "g. incrementare di una unità entrambi i numeri"
      ]
    },
    {
      "cell_type": "code",
      "metadata": {
        "colab": {
          "base_uri": "https://localhost:8080/"
        },
        "id": "Igg38TyMlcfO",
        "outputId": "2f579847-e0c0-4e64-b78a-187a89e9b89e"
      },
      "source": [
        "num1 += 1\n",
        "num2 += 1\n",
        "print(\"variabile num1 incrementata = \" + str(num1))\n",
        "print(\"variabile num2 incrementata = \" + str(num2))"
      ],
      "execution_count": null,
      "outputs": [
        {
          "output_type": "stream",
          "name": "stdout",
          "text": [
            "variabile num1 incrementata = 8\n",
            "variabile num2 incrementata = 6\n"
          ]
        }
      ]
    },
    {
      "cell_type": "markdown",
      "metadata": {
        "id": "IBr4qp5pm_SU"
      },
      "source": [
        "h. far inserie all'utente due valori: il primo rappresenta la sua altezza (in metri) e il secondo rappresenta il suo peso (in kg). Visualizzare poi l'IMC (google it...)"
      ]
    },
    {
      "cell_type": "code",
      "metadata": {
        "colab": {
          "base_uri": "https://localhost:8080/"
        },
        "id": "lbWCRu-dnHU0",
        "outputId": "2524bbb7-266c-434b-ead0-178e114c1bff"
      },
      "source": [
        "nval1= float(input(\"inserire l'altezza (m): \"))\n",
        "nval2= int(input(\"inserire il peso (Kg): \"))\n",
        "\n",
        "IMC = nval2 / (nval1**2)\n",
        "\n",
        "print(\"IMC = \" + str(IMC))"
      ],
      "execution_count": null,
      "outputs": [
        {
          "output_type": "stream",
          "name": "stdout",
          "text": [
            "inserire l'altezza (m): 1.70\n",
            "inserire il peso (Kg): 55\n",
            "IMC = 19.031141868512112\n"
          ]
        }
      ]
    },
    {
      "cell_type": "markdown",
      "metadata": {
        "id": "ieI5IjGxstqR"
      },
      "source": [
        "i. arrotondare l'IMC precedente\n"
      ]
    },
    {
      "cell_type": "code",
      "metadata": {
        "colab": {
          "base_uri": "https://localhost:8080/"
        },
        "id": "d63WqWkdsvL7",
        "outputId": "6b62720a-520f-467b-8ccf-dc6a395feea6"
      },
      "source": [
        "IMCrounded = round(IMC)\n",
        "print(\"Rounded IMC = \" + str(IMCrounded))"
      ],
      "execution_count": null,
      "outputs": [
        {
          "output_type": "stream",
          "name": "stdout",
          "text": [
            "Rounded IMC = 19\n"
          ]
        }
      ]
    },
    {
      "cell_type": "markdown",
      "metadata": {
        "id": "tp-ErsXxtx_z"
      },
      "source": [
        "j. visualizzare il proprio nome, cognome, data di nascita e città di nascita separando le informazioni con un trattino."
      ]
    },
    {
      "cell_type": "code",
      "metadata": {
        "colab": {
          "base_uri": "https://localhost:8080/"
        },
        "id": "2PdBHTB4t1oS",
        "outputId": "03e36677-ee8b-4ec8-ca1a-386852c3c10e"
      },
      "source": [
        "Name = (input(\"Inserire Nome: \"))\n",
        "Surname = (input(\"Inserire Cognome: \"))\n",
        "BirthDay = (input(\"Inserire Compleanno: \"))\n",
        "BirthCity = (input(\"Inserire Città di nascita: \"))\n",
        " \n",
        "print(\"Informazioni Personali: \" + str(Name) + \" - \" + str(Surname) + \" - \" + str(BirthDay) + \" - \" + str(BirthCity))"
      ],
      "execution_count": null,
      "outputs": [
        {
          "output_type": "stream",
          "name": "stdout",
          "text": [
            "Inserire Nome: Fabrizio\n",
            "Inserire Cognome: Giurato\n",
            "Inserire Compleanno: 24/03/2005\n",
            "Inserire Città di nascita: Milano\n",
            "Informazioni Personali: Fabrizio - Giurato - 24/03/2005 - Milano\n"
          ]
        }
      ]
    },
    {
      "cell_type": "markdown",
      "metadata": {
        "id": "ijvlm24RxPBB"
      },
      "source": [
        "k. visualizzare le stesse informazioni per 10 volte di seguito"
      ]
    },
    {
      "cell_type": "code",
      "metadata": {
        "colab": {
          "base_uri": "https://localhost:8080/"
        },
        "id": "-kiT9e66xQoh",
        "outputId": "0d90f826-4663-45db-c75d-ffc7b1aad7fb"
      },
      "source": [
        "print((\"Informazioni Personali: \" + str(Name) + \" - \" + str(Surname) + \" - \" + str(BirthDay) + \" - \" + str(BirthCity))*10)"
      ],
      "execution_count": null,
      "outputs": [
        {
          "output_type": "stream",
          "name": "stdout",
          "text": [
            "Informazioni Personali: Fabrizio - Giurato - 24/03/2005 - MilanoInformazioni Personali: Fabrizio - Giurato - 24/03/2005 - MilanoInformazioni Personali: Fabrizio - Giurato - 24/03/2005 - MilanoInformazioni Personali: Fabrizio - Giurato - 24/03/2005 - MilanoInformazioni Personali: Fabrizio - Giurato - 24/03/2005 - MilanoInformazioni Personali: Fabrizio - Giurato - 24/03/2005 - MilanoInformazioni Personali: Fabrizio - Giurato - 24/03/2005 - MilanoInformazioni Personali: Fabrizio - Giurato - 24/03/2005 - MilanoInformazioni Personali: Fabrizio - Giurato - 24/03/2005 - MilanoInformazioni Personali: Fabrizio - Giurato - 24/03/2005 - Milano\n"
          ]
        }
      ]
    },
    {
      "cell_type": "markdown",
      "metadata": {
        "id": "ZmqB-2WY0Fnp"
      },
      "source": [
        "l. assegnare il proprio nome e cognome ad una stringa e visualizzarla con tutte le lettere maiuscole"
      ]
    },
    {
      "cell_type": "code",
      "metadata": {
        "colab": {
          "base_uri": "https://localhost:8080/"
        },
        "id": "LpIJHMYK0KnY",
        "outputId": "8dd1f13f-a688-4259-e693-cb03f2d5c448"
      },
      "source": [
        "print((Name).upper())\n",
        "print((Surname).upper())"
      ],
      "execution_count": null,
      "outputs": [
        {
          "output_type": "stream",
          "name": "stdout",
          "text": [
            "FABRIZIO\n",
            "GIURATO\n"
          ]
        }
      ]
    },
    {
      "cell_type": "markdown",
      "metadata": {
        "id": "Ri73WS4H2twq"
      },
      "source": [
        "m. assegnare il proprio nome e cognome ad una stringa e visualizzarla con le prime lettere maiuscole"
      ]
    },
    {
      "cell_type": "code",
      "metadata": {
        "colab": {
          "base_uri": "https://localhost:8080/"
        },
        "id": "iXYF7MCL2xhR",
        "outputId": "e46aec6d-bc44-48d5-faa3-c9820e776514"
      },
      "source": [
        "print((Name).title())\n",
        "print((Surname).title())"
      ],
      "execution_count": null,
      "outputs": [
        {
          "output_type": "stream",
          "name": "stdout",
          "text": [
            "Fabrizio\n",
            "Giurato\n"
          ]
        }
      ]
    },
    {
      "cell_type": "markdown",
      "metadata": {
        "id": "2dtdSGTn3phi"
      },
      "source": [
        "n. assegnare il proprio nome e cognome ad una stringa e visualizzarne la lunghezza"
      ]
    },
    {
      "cell_type": "code",
      "metadata": {
        "colab": {
          "base_uri": "https://localhost:8080/"
        },
        "id": "bxvw_6gq3ulQ",
        "outputId": "8b882f79-d2a6-4c2b-9113-5efd3305a6fc"
      },
      "source": [
        "print(len(Name))\n",
        "print(len(Surname))"
      ],
      "execution_count": null,
      "outputs": [
        {
          "output_type": "stream",
          "name": "stdout",
          "text": [
            "8\n",
            "7\n"
          ]
        }
      ]
    },
    {
      "cell_type": "markdown",
      "metadata": {
        "id": "wxQnd9Bg4j5M"
      },
      "source": [
        "o. assegnare il proprio nome e cognome ad una stringa e contate quante vocali contiene"
      ]
    },
    {
      "cell_type": "code",
      "metadata": {
        "id": "HRvjztCu4kne",
        "colab": {
          "base_uri": "https://localhost:8080/"
        },
        "outputId": "804dc402-7177-42d3-c305-5757d1c967d0"
      },
      "source": [
        "vocals = ['a' , 'e' , 'i', 'o', 'u']\n",
        "vocalscounter = 0\n",
        "for v in vocals: \n",
        "      vocalscounter += Name.count(v)\n",
        "      vocalscounter += Surname.count(v)\n",
        "print(\"vocali contenute in nome e cognome: \" , vocalscounter)"
      ],
      "execution_count": null,
      "outputs": [
        {
          "output_type": "stream",
          "name": "stdout",
          "text": [
            "vocali contenute in nome e cognome:  8\n"
          ]
        }
      ]
    },
    {
      "cell_type": "code",
      "metadata": {
        "id": "Qp7HONAG5uTf"
      },
      "source": [
        "from google.colab import drive\n",
        "drive.mount('/content/drive')"
      ],
      "execution_count": null,
      "outputs": []
    },
    {
      "cell_type": "markdown",
      "metadata": {
        "id": "pSNDPsjc8Ywd"
      },
      "source": [
        " p. assegnare il proprio nome e cognome ad una stringa e visualizzare i primi 5 caratteri"
      ]
    },
    {
      "cell_type": "code",
      "metadata": {
        "colab": {
          "base_uri": "https://localhost:8080/"
        },
        "id": "jApdvqI88kdK",
        "outputId": "38f5cadd-2015-4cbf-c6bf-2961a8320de7"
      },
      "source": [
        "print(\"I primi 5 caratteri sono: \", Name[0:5])"
      ],
      "execution_count": null,
      "outputs": [
        {
          "output_type": "stream",
          "name": "stdout",
          "text": [
            "I primi 5 caratteri sono:  Fabri\n"
          ]
        }
      ]
    },
    {
      "cell_type": "markdown",
      "metadata": {
        "id": "51yhNNul9taH"
      },
      "source": [
        "q. assegnare il proprio nome e cognome ad una stringa e visualizzare gli ultimi 5 caratteri"
      ]
    },
    {
      "cell_type": "code",
      "metadata": {
        "colab": {
          "base_uri": "https://localhost:8080/"
        },
        "id": "ALkFZLAaB_8Q",
        "outputId": "3c61e37e-cd37-4deb-c414-fac435b8cfd7"
      },
      "source": [
        "print(\"gli ultimi 5 caratteri sono: \", Surname[len(Surname)-5:len(Surname)])"
      ],
      "execution_count": null,
      "outputs": [
        {
          "output_type": "stream",
          "name": "stdout",
          "text": [
            "gli ultimi 5 caratteri sono:  urato\n"
          ]
        }
      ]
    },
    {
      "cell_type": "markdown",
      "metadata": {
        "id": "utJs7R7aDPKb"
      },
      "source": [
        " r. assegnare il proprio nome e cognome ad una stringa e visualizzare i 5 caratteri centrali"
      ]
    },
    {
      "cell_type": "code",
      "metadata": {
        "id": "-Bk7__23f_gY",
        "colab": {
          "base_uri": "https://localhost:8080/"
        },
        "outputId": "a54c06b6-4227-4f8c-fe06-0e8ac3f667a1"
      },
      "source": [
        "namesurname = Name + \" \" + Surname\n",
        " \n",
        "if len(namesurname) % 2 == 0:\n",
        "   chars = namesurname[(len(namesurname) - 5)//2:(len(namesurname) - 5)//2 + 5]\n",
        "else:\n",
        "   chars = namesurname[(len(namesurname) - 5)/2:(len(namesurname) - 5)/2 + 5]\n",
        " \n",
        "print('Caratteri centrali: ', chars)"
      ],
      "execution_count": null,
      "outputs": [
        {
          "output_type": "stream",
          "name": "stdout",
          "text": [
            "Caratteri centrali:  zio G\n"
          ]
        }
      ]
    },
    {
      "cell_type": "markdown",
      "metadata": {
        "id": "IX0-a4HlzndQ"
      },
      "source": [
        " assegnare il proprio nome e cognome ad una stringa e sostituire le vocali con una x"
      ]
    },
    {
      "cell_type": "code",
      "metadata": {
        "colab": {
          "base_uri": "https://localhost:8080/"
        },
        "id": "uLDylrrAz5VH",
        "outputId": "985584ad-310e-4fa4-c6e0-2f43f1323687"
      },
      "source": [
        "VocX = namesurname\n",
        "for v in vocals:\n",
        "    VocX = VocX.replace(v,\"X\")\n",
        " \n",
        "print(VocX)"
      ],
      "execution_count": null,
      "outputs": [
        {
          "output_type": "stream",
          "name": "stdout",
          "text": [
            "FXbrXzXX GXXrXtX\n"
          ]
        }
      ]
    }
  ]
}