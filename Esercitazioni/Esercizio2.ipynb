{
  "nbformat": 4,
  "nbformat_minor": 0,
  "metadata": {
    "colab": {
      "name": "Untitled5.ipynb",
      "provenance": []
    },
    "kernelspec": {
      "name": "python3",
      "display_name": "Python 3"
    },
    "language_info": {
      "name": "python"
    }
  },
  "cells": [
    {
      "cell_type": "markdown",
      "metadata": {
        "id": "p7jTRq4z9x4k"
      },
      "source": [
        "1. Scrivere un programma che crei una lista contenente i nomi dei capoluoghi delle regioni italiane e che visualizzi la lista. chiamare la lista \"capoluoghiRegione\""
      ]
    },
    {
      "cell_type": "code",
      "metadata": {
        "colab": {
          "base_uri": "https://localhost:8080/"
        },
        "id": "50jcu4n7-YWq",
        "outputId": "75cbdc95-fc37-44c8-c03e-dd8715f988ce"
      },
      "source": [
        "capoluoghiRegione= ['Aosta', 'Torino', 'Genova', 'Milano', 'Trento','Venezia', 'Trieste', 'Bologna', 'Firenze', 'Ancona', 'Perugia', 'Roma', 'LAquila', 'Campobasso', 'Napoli', 'Bari', 'Potenza', 'Catanzaro', 'Palermo','Cagliari']\n",
        "print( capoluoghiRegione )"
      ],
      "execution_count": 61,
      "outputs": [
        {
          "output_type": "stream",
          "name": "stdout",
          "text": [
            "['Aosta', 'Torino', 'Genova', 'Milano', 'Trento', 'Venezia', 'Trieste', 'Bologna', 'Firenze', 'Ancona', 'Perugia', 'Roma', 'LAquila', 'Campobasso', 'Napoli', 'Bari', 'Potenza', 'Catanzaro', 'Palermo', 'Cagliari']\n"
          ]
        }
      ]
    },
    {
      "cell_type": "markdown",
      "metadata": {
        "id": "BWYYyJqwBH88"
      },
      "source": [
        "2. Scrivere un programma che visualizzi i primi 6 capoluoghi di regione contenuti in capoluoghiRegione"
      ]
    },
    {
      "cell_type": "code",
      "metadata": {
        "colab": {
          "base_uri": "https://localhost:8080/"
        },
        "id": "YOvuBtHcBU7m",
        "outputId": "64301186-d642-4fd6-dc82-19444dffce12"
      },
      "source": [
        "print(\"i primi 6 capoluoghi sono: \", capoluoghiRegione[0:7])"
      ],
      "execution_count": 7,
      "outputs": [
        {
          "output_type": "stream",
          "name": "stdout",
          "text": [
            "i primi 5 capoluoghi sono:  ['Aosta', 'Torino', 'Genova', 'Milano', 'Trento', 'Venezia', 'Trieste']\n"
          ]
        }
      ]
    },
    {
      "cell_type": "markdown",
      "metadata": {
        "id": "D6RY4yhXB-rz"
      },
      "source": [
        "3. Scrivere un programma che visualizzi gli ultimi 6 capoluoghi di regione contenuti in capoluoghiRegione"
      ]
    },
    {
      "cell_type": "code",
      "metadata": {
        "colab": {
          "base_uri": "https://localhost:8080/"
        },
        "id": "GMHiWPOACGV-",
        "outputId": "0fa91fdd-bc81-4835-bfa1-fea41f5026c7"
      },
      "source": [
        "print(\"gli ultimi 6 capoluoghi sono: \", capoluoghiRegione[len(capoluoghiRegione)-6:len(capoluoghiRegione)])"
      ],
      "execution_count": 11,
      "outputs": [
        {
          "output_type": "stream",
          "name": "stdout",
          "text": [
            "gli ultimi 6 capoluoghi sono:  ['Napoli', 'Bari', 'Potenza', 'Catanzaro', 'Palermo', 'Cagliari']\n"
          ]
        }
      ]
    },
    {
      "cell_type": "markdown",
      "metadata": {
        "id": "XUxYaExGCWPO"
      },
      "source": [
        "4. Scrivere un programma che visualizzi i 6 capoluoghi di regione presenti nella parte centrale di capoluoghiRegione"
      ]
    },
    {
      "cell_type": "code",
      "metadata": {
        "colab": {
          "base_uri": "https://localhost:8080/"
        },
        "id": "JjjiSveqCr3H",
        "outputId": "23641442-294f-4c90-a930-5a7f6fe2290a"
      },
      "source": [
        "if len(capoluoghiRegione) % 2 == 0:\n",
        "   chars = capoluoghiRegione[(len(capoluoghiRegione) - 6)//2:(len(capoluoghiRegione) - 6)//2 + 6]\n",
        "else:\n",
        "   chars = capoluoghiRegione[(len(capoluoghiRegione) - 6)/2:(len(capoluoghiRegione) - 6)/2 + 6]\n",
        " \n",
        "print('Capoluoghi centrali: ', chars)"
      ],
      "execution_count": 13,
      "outputs": [
        {
          "output_type": "stream",
          "name": "stdout",
          "text": [
            "Capoluoghi centrali:  ['Bologna', 'Firenze', 'Ancona', 'Perugia', 'Roma', 'LAquila']\n"
          ]
        }
      ]
    },
    {
      "cell_type": "markdown",
      "metadata": {
        "id": "n4TpLURsDrTa"
      },
      "source": [
        "5. Scrivere un programma che visualizzi i capoluoghi di regione presenti in capoluoghiRegione nelle posizioni pari"
      ]
    },
    {
      "cell_type": "code",
      "metadata": {
        "colab": {
          "base_uri": "https://localhost:8080/"
        },
        "id": "HsrK1FUDD6Ac",
        "outputId": "1c1dfb49-a3d2-4f06-8ec7-90ee524d7e4a"
      },
      "source": [
        "print(capoluoghiRegione[:20:2])"
      ],
      "execution_count": 17,
      "outputs": [
        {
          "output_type": "stream",
          "name": "stdout",
          "text": [
            "['Aosta', 'Genova', 'Trento', 'Trieste', 'Firenze', 'Perugia', 'LAquila', 'Napoli', 'Potenza', 'Palermo']\n"
          ]
        }
      ]
    },
    {
      "cell_type": "markdown",
      "metadata": {
        "id": "AUl8kdNvGT0S"
      },
      "source": [
        "6. Scrivere un programma che visualizzi i capoluoghi di regione presenti in capoluoghiRegione nelle posizioni dispari"
      ]
    },
    {
      "cell_type": "code",
      "metadata": {
        "colab": {
          "base_uri": "https://localhost:8080/"
        },
        "id": "2jWxKdQqGjCH",
        "outputId": "d782cbc9-b7d9-4a90-ed16-2626ceed1196"
      },
      "source": [
        "print(capoluoghiRegione[1:20:2])"
      ],
      "execution_count": 22,
      "outputs": [
        {
          "output_type": "stream",
          "name": "stdout",
          "text": [
            "['Torino', 'Milano', 'Venezia', 'Bologna', 'Ancona', 'Roma', 'Campobasso', 'Bari', 'Catanzaro', 'Cagliari']\n"
          ]
        }
      ]
    },
    {
      "cell_type": "markdown",
      "metadata": {
        "id": "cxP8O9sNHOQe"
      },
      "source": [
        "7. scrivi un programma che visualizzi il primo capoluogo di regione in ordine alfabetico"
      ]
    },
    {
      "cell_type": "code",
      "metadata": {
        "colab": {
          "base_uri": "https://localhost:8080/"
        },
        "id": "06blmdJ7HiSR",
        "outputId": "51a21747-3a44-4eaf-ede4-0796e77ba33c"
      },
      "source": [
        "capoluoghiRegione.sort()\n",
        "print(capoluoghiRegione[0])"
      ],
      "execution_count": 32,
      "outputs": [
        {
          "output_type": "stream",
          "name": "stdout",
          "text": [
            "Ancona\n"
          ]
        }
      ]
    },
    {
      "cell_type": "markdown",
      "metadata": {
        "id": "CdtgmdK2IKp7"
      },
      "source": [
        "8. Scrivere un programma che permetta ad un utente di inserire il nome di una città e rispondere True se quella città è un capoluogo di regione, False altrimenti"
      ]
    },
    {
      "cell_type": "code",
      "metadata": {
        "colab": {
          "base_uri": "https://localhost:8080/"
        },
        "id": "3gYhIw-FI1uH",
        "outputId": "eb2765bd-ff2c-44e0-f1b8-ff58911a8710"
      },
      "source": [
        "citta = input()\n",
        "citta in capoluoghiRegione"
      ],
      "execution_count": 30,
      "outputs": [
        {
          "name": "stdout",
          "output_type": "stream",
          "text": [
            "Roma\n"
          ]
        },
        {
          "output_type": "execute_result",
          "data": {
            "text/plain": [
              "True"
            ]
          },
          "metadata": {},
          "execution_count": 30
        }
      ]
    },
    {
      "cell_type": "markdown",
      "metadata": {
        "id": "TLAmxPZCJUsc"
      },
      "source": [
        "9. Scrivere un programma che visualizzi i capoluoghi in ordine alfabetico"
      ]
    },
    {
      "cell_type": "code",
      "metadata": {
        "colab": {
          "base_uri": "https://localhost:8080/"
        },
        "id": "JEcLFAJoJoqJ",
        "outputId": "4772ace9-bc1c-4e06-9e70-ae6007d232a8"
      },
      "source": [
        "capoluoghiRegione.sort()\n",
        "print(capoluoghiRegione)"
      ],
      "execution_count": 31,
      "outputs": [
        {
          "output_type": "stream",
          "name": "stdout",
          "text": [
            "['Ancona', 'Aosta', 'Bari', 'Bologna', 'Cagliari', 'Campobasso', 'Catanzaro', 'Firenze', 'Genova', 'LAquila', 'Milano', 'Napoli', 'Palermo', 'Perugia', 'Potenza', 'Roma', 'Torino', 'Trento', 'Trieste', 'Venezia']\n"
          ]
        }
      ]
    },
    {
      "cell_type": "markdown",
      "metadata": {
        "id": "cMzBav0ZJ1nv"
      },
      "source": [
        "10. Scrivere un programma che visualizzi i capoluoghi in ordine alfabetico inverso (dalla Z alla A)"
      ]
    },
    {
      "cell_type": "code",
      "metadata": {
        "colab": {
          "base_uri": "https://localhost:8080/"
        },
        "id": "XQDIp2IUKHJ5",
        "outputId": "6f2b3540-333b-4c2f-8b00-ba7a64d82ad7"
      },
      "source": [
        "print(sorted(capoluoghiRegione, reverse=True))"
      ],
      "execution_count": 33,
      "outputs": [
        {
          "output_type": "stream",
          "name": "stdout",
          "text": [
            "['Venezia', 'Trieste', 'Trento', 'Torino', 'Roma', 'Potenza', 'Perugia', 'Palermo', 'Napoli', 'Milano', 'LAquila', 'Genova', 'Firenze', 'Catanzaro', 'Campobasso', 'Cagliari', 'Bologna', 'Bari', 'Aosta', 'Ancona']\n"
          ]
        }
      ]
    },
    {
      "cell_type": "markdown",
      "metadata": {
        "id": "iak2Tf6FKRdG"
      },
      "source": [
        "11. Scrivere un programma che visualizzi i capoluoghi in ordine sulla base della lughezza (da quello più corto a quello più lungo)"
      ]
    },
    {
      "cell_type": "code",
      "metadata": {
        "colab": {
          "base_uri": "https://localhost:8080/"
        },
        "id": "oWogCXOpKnhK",
        "outputId": "0dbc9819-17e5-48cf-bb32-cce5a1e14906"
      },
      "source": [
        "print(sorted(capoluoghiRegione, key= len))\n"
      ],
      "execution_count": 47,
      "outputs": [
        {
          "output_type": "stream",
          "name": "stdout",
          "text": [
            "['Bari', 'Roma', 'Aosta', 'Ancona', 'Genova', 'Milano', 'Napoli', 'Torino', 'Trento', 'Bologna', 'Firenze', 'LAquila', 'Palermo', 'Perugia', 'Potenza', 'Trieste', 'Venezia', 'Cagliari', 'Catanzaro', 'Campobasso']\n"
          ]
        }
      ]
    },
    {
      "cell_type": "markdown",
      "metadata": {
        "id": "IVcr52NWOfO3"
      },
      "source": [
        "12. Scrivere un programma che copi la lista capoluoghiRegione nella lista\n",
        "capoluoghiRegione2 e che elimini dalla prima lista il primo e l’ultimo elemento. Al termine,\n",
        "visualizzare le due liste una sotto l’altra per verificare che effettivamente siano stati eliminati gli\n",
        "elementi della lista originale."
      ]
    },
    {
      "cell_type": "code",
      "metadata": {
        "colab": {
          "base_uri": "https://localhost:8080/"
        },
        "id": "evL55W1gOsl_",
        "outputId": "325c0ea4-05a1-4d61-8df1-2eed668d8d56"
      },
      "source": [
        "capoluoghiRegione2 = capoluoghiRegione[:]\n",
        "\n",
        "capoluoghiRegione.pop()\n",
        "capoluoghiRegione.remove(capoluoghiRegione[0])\n",
        "\n",
        "print(capoluoghiRegione)\n",
        "print(\"lista copiata: \", capoluoghiRegione2)"
      ],
      "execution_count": 62,
      "outputs": [
        {
          "output_type": "stream",
          "name": "stdout",
          "text": [
            "['Torino', 'Genova', 'Milano', 'Trento', 'Venezia', 'Trieste', 'Bologna', 'Firenze', 'Ancona', 'Perugia', 'Roma', 'LAquila', 'Campobasso', 'Napoli', 'Bari', 'Potenza', 'Catanzaro', 'Palermo']\n",
            "lista copiata:  ['Aosta', 'Torino', 'Genova', 'Milano', 'Trento', 'Venezia', 'Trieste', 'Bologna', 'Firenze', 'Ancona', 'Perugia', 'Roma', 'LAquila', 'Campobasso', 'Napoli', 'Bari', 'Potenza', 'Catanzaro', 'Palermo', 'Cagliari']\n"
          ]
        }
      ]
    },
    {
      "cell_type": "markdown",
      "metadata": {
        "id": "CKHfd-A9RRKb"
      },
      "source": [
        "13. Scrivere un programma che, con una sola istruzione, carichi una lista con i primi 100 numeri interi.\n",
        "Chiamare la lista numeriInteri. Al termine, visualizzare la lista."
      ]
    },
    {
      "cell_type": "code",
      "metadata": {
        "colab": {
          "base_uri": "https://localhost:8080/"
        },
        "id": "gGY1s7AGRcap",
        "outputId": "b839414f-ef69-400b-e87e-5410f73c5534"
      },
      "source": [
        "numeriInteri = list(range(101))\n",
        "print(numeriInteri)"
      ],
      "execution_count": 99,
      "outputs": [
        {
          "output_type": "stream",
          "name": "stdout",
          "text": [
            "[0, 1, 2, 3, 4, 5, 6, 7, 8, 9, 10, 11, 12, 13, 14, 15, 16, 17, 18, 19, 20, 21, 22, 23, 24, 25, 26, 27, 28, 29, 30, 31, 32, 33, 34, 35, 36, 37, 38, 39, 40, 41, 42, 43, 44, 45, 46, 47, 48, 49, 50, 51, 52, 53, 54, 55, 56, 57, 58, 59, 60, 61, 62, 63, 64, 65, 66, 67, 68, 69, 70, 71, 72, 73, 74, 75, 76, 77, 78, 79, 80, 81, 82, 83, 84, 85, 86, 87, 88, 89, 90, 91, 92, 93, 94, 95, 96, 97, 98, 99, 100]\n"
          ]
        }
      ]
    },
    {
      "cell_type": "markdown",
      "metadata": {
        "id": "egay8mmYSXww"
      },
      "source": [
        "14. Scrivere un programma che permetta all’utente di inserire in una lista 10 numeri interi, elimini i\n",
        "duplicati e visualizzi la lista senza duplicati. Chiamare la lista numeriInteri."
      ]
    },
    {
      "cell_type": "code",
      "metadata": {
        "colab": {
          "base_uri": "https://localhost:8080/"
        },
        "id": "Wg9XmrejUqSi",
        "outputId": "e56752d5-db13-4dad-a7f1-6a6722d632f6"
      },
      "source": [
        "numeriInteri = []\n",
        "for i in range(10):\n",
        "   numeriInteri.append(input())\n",
        "\n",
        "print(set(numeriInteri))"
      ],
      "execution_count": 109,
      "outputs": [
        {
          "output_type": "stream",
          "name": "stdout",
          "text": [
            "4\n",
            "8\n",
            "1\n",
            "2\n",
            "3\n",
            "5\n",
            "6\n",
            "7\n",
            "9\n",
            "4\n",
            "{'8', '7', '5', '9', '6', '1', '4', '2', '3'}\n"
          ]
        }
      ]
    }
  ]
}