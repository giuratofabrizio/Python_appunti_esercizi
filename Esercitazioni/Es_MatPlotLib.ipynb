{
  "nbformat": 4,
  "nbformat_minor": 0,
  "metadata": {
    "colab": {
      "name": "Es.MatPlotLib.ipynb",
      "provenance": []
    },
    "kernelspec": {
      "name": "python3",
      "display_name": "Python 3"
    },
    "language_info": {
      "name": "python"
    }
  },
  "cells": [
    {
      "cell_type": "markdown",
      "metadata": {
        "id": "HiS5YgIfxPxC"
      },
      "source": [
        "# ESERCITAZIONE MATPLOTLIB\n",
        "Esercizi non riusciti:\n",
        "*   Es.12\n"
      ]
    },
    {
      "cell_type": "code",
      "metadata": {
        "id": "ARoxkZ4mrU3V"
      },
      "source": [
        "import pandas as pd\n",
        "import matplotlib.pyplot as plt"
      ],
      "execution_count": 33,
      "outputs": []
    },
    {
      "cell_type": "code",
      "metadata": {
        "colab": {
          "base_uri": "https://localhost:8080/",
          "height": 424
        },
        "id": "JHuHvM4irdVX",
        "outputId": "28dce1c6-b464-43c3-febf-f5290511ec74"
      },
      "source": [
        "df = pd.read_csv('https://raw.githubusercontent.com/italia/covid19-opendata-vaccini/master/dati/consegne-vaccini-latest.csv')\n",
        "df"
      ],
      "execution_count": 34,
      "outputs": [
        {
          "output_type": "execute_result",
          "data": {
            "text/html": [
              "<div>\n",
              "<style scoped>\n",
              "    .dataframe tbody tr th:only-of-type {\n",
              "        vertical-align: middle;\n",
              "    }\n",
              "\n",
              "    .dataframe tbody tr th {\n",
              "        vertical-align: top;\n",
              "    }\n",
              "\n",
              "    .dataframe thead th {\n",
              "        text-align: right;\n",
              "    }\n",
              "</style>\n",
              "<table border=\"1\" class=\"dataframe\">\n",
              "  <thead>\n",
              "    <tr style=\"text-align: right;\">\n",
              "      <th></th>\n",
              "      <th>area</th>\n",
              "      <th>fornitore</th>\n",
              "      <th>numero_dosi</th>\n",
              "      <th>data_consegna</th>\n",
              "      <th>codice_NUTS1</th>\n",
              "      <th>codice_NUTS2</th>\n",
              "      <th>codice_regione_ISTAT</th>\n",
              "      <th>nome_area</th>\n",
              "    </tr>\n",
              "  </thead>\n",
              "  <tbody>\n",
              "    <tr>\n",
              "      <th>0</th>\n",
              "      <td>ABR</td>\n",
              "      <td>Pfizer/BioNTech</td>\n",
              "      <td>135</td>\n",
              "      <td>2020-12-27</td>\n",
              "      <td>ITF</td>\n",
              "      <td>ITF1</td>\n",
              "      <td>13</td>\n",
              "      <td>Abruzzo</td>\n",
              "    </tr>\n",
              "    <tr>\n",
              "      <th>1</th>\n",
              "      <td>ABR</td>\n",
              "      <td>Pfizer/BioNTech</td>\n",
              "      <td>7800</td>\n",
              "      <td>2020-12-30</td>\n",
              "      <td>ITF</td>\n",
              "      <td>ITF1</td>\n",
              "      <td>13</td>\n",
              "      <td>Abruzzo</td>\n",
              "    </tr>\n",
              "    <tr>\n",
              "      <th>2</th>\n",
              "      <td>ABR</td>\n",
              "      <td>Pfizer/BioNTech</td>\n",
              "      <td>3900</td>\n",
              "      <td>2021-01-05</td>\n",
              "      <td>ITF</td>\n",
              "      <td>ITF1</td>\n",
              "      <td>13</td>\n",
              "      <td>Abruzzo</td>\n",
              "    </tr>\n",
              "    <tr>\n",
              "      <th>3</th>\n",
              "      <td>ABR</td>\n",
              "      <td>Pfizer/BioNTech</td>\n",
              "      <td>3900</td>\n",
              "      <td>2021-01-07</td>\n",
              "      <td>ITF</td>\n",
              "      <td>ITF1</td>\n",
              "      <td>13</td>\n",
              "      <td>Abruzzo</td>\n",
              "    </tr>\n",
              "    <tr>\n",
              "      <th>4</th>\n",
              "      <td>ABR</td>\n",
              "      <td>Pfizer/BioNTech</td>\n",
              "      <td>3900</td>\n",
              "      <td>2021-01-11</td>\n",
              "      <td>ITF</td>\n",
              "      <td>ITF1</td>\n",
              "      <td>13</td>\n",
              "      <td>Abruzzo</td>\n",
              "    </tr>\n",
              "    <tr>\n",
              "      <th>...</th>\n",
              "      <td>...</td>\n",
              "      <td>...</td>\n",
              "      <td>...</td>\n",
              "      <td>...</td>\n",
              "      <td>...</td>\n",
              "      <td>...</td>\n",
              "      <td>...</td>\n",
              "      <td>...</td>\n",
              "    </tr>\n",
              "    <tr>\n",
              "      <th>5278</th>\n",
              "      <td>VEN</td>\n",
              "      <td>Moderna</td>\n",
              "      <td>-1200</td>\n",
              "      <td>2021-10-11</td>\n",
              "      <td>ITH</td>\n",
              "      <td>ITH3</td>\n",
              "      <td>5</td>\n",
              "      <td>Veneto</td>\n",
              "    </tr>\n",
              "    <tr>\n",
              "      <th>5279</th>\n",
              "      <td>VEN</td>\n",
              "      <td>Moderna</td>\n",
              "      <td>1</td>\n",
              "      <td>2021-10-13</td>\n",
              "      <td>ITH</td>\n",
              "      <td>ITH3</td>\n",
              "      <td>5</td>\n",
              "      <td>Veneto</td>\n",
              "    </tr>\n",
              "    <tr>\n",
              "      <th>5280</th>\n",
              "      <td>VEN</td>\n",
              "      <td>Moderna</td>\n",
              "      <td>8</td>\n",
              "      <td>2021-10-14</td>\n",
              "      <td>ITH</td>\n",
              "      <td>ITH3</td>\n",
              "      <td>5</td>\n",
              "      <td>Veneto</td>\n",
              "    </tr>\n",
              "    <tr>\n",
              "      <th>5281</th>\n",
              "      <td>VEN</td>\n",
              "      <td>Pfizer/BioNTech</td>\n",
              "      <td>4</td>\n",
              "      <td>2021-10-15</td>\n",
              "      <td>ITH</td>\n",
              "      <td>ITH3</td>\n",
              "      <td>5</td>\n",
              "      <td>Veneto</td>\n",
              "    </tr>\n",
              "    <tr>\n",
              "      <th>5282</th>\n",
              "      <td>VEN</td>\n",
              "      <td>Moderna</td>\n",
              "      <td>5</td>\n",
              "      <td>2021-11-11</td>\n",
              "      <td>ITH</td>\n",
              "      <td>ITH3</td>\n",
              "      <td>5</td>\n",
              "      <td>Veneto</td>\n",
              "    </tr>\n",
              "  </tbody>\n",
              "</table>\n",
              "<p>5283 rows × 8 columns</p>\n",
              "</div>"
            ],
            "text/plain": [
              "     area        fornitore  ...  codice_regione_ISTAT nome_area\n",
              "0     ABR  Pfizer/BioNTech  ...                    13   Abruzzo\n",
              "1     ABR  Pfizer/BioNTech  ...                    13   Abruzzo\n",
              "2     ABR  Pfizer/BioNTech  ...                    13   Abruzzo\n",
              "3     ABR  Pfizer/BioNTech  ...                    13   Abruzzo\n",
              "4     ABR  Pfizer/BioNTech  ...                    13   Abruzzo\n",
              "...   ...              ...  ...                   ...       ...\n",
              "5278  VEN          Moderna  ...                     5    Veneto\n",
              "5279  VEN          Moderna  ...                     5    Veneto\n",
              "5280  VEN          Moderna  ...                     5    Veneto\n",
              "5281  VEN  Pfizer/BioNTech  ...                     5    Veneto\n",
              "5282  VEN          Moderna  ...                     5    Veneto\n",
              "\n",
              "[5283 rows x 8 columns]"
            ]
          },
          "metadata": {},
          "execution_count": 34
        }
      ]
    },
    {
      "cell_type": "markdown",
      "metadata": {
        "id": "VdKsuaTXriPH"
      },
      "source": [
        "Es.1"
      ]
    },
    {
      "cell_type": "code",
      "metadata": {
        "colab": {
          "base_uri": "https://localhost:8080/"
        },
        "id": "3lQrTnuorhZv",
        "outputId": "ee8275f2-35c4-4034-b186-9b88925d61a8"
      },
      "source": [
        "df['area'].count()\n"
      ],
      "execution_count": 35,
      "outputs": [
        {
          "output_type": "execute_result",
          "data": {
            "text/plain": [
              "5283"
            ]
          },
          "metadata": {},
          "execution_count": 35
        }
      ]
    },
    {
      "cell_type": "markdown",
      "metadata": {
        "id": "sG3ZgeuPr0no"
      },
      "source": [
        "Es.2"
      ]
    },
    {
      "cell_type": "code",
      "metadata": {
        "colab": {
          "base_uri": "https://localhost:8080/"
        },
        "id": "IM6cuvFKr2A_",
        "outputId": "0142cc4f-be53-466b-a9f2-645599dd99f5"
      },
      "source": [
        "Regione=input()\n",
        "df.loc[df['nome_area']==Regione,'area'].count()"
      ],
      "execution_count": 37,
      "outputs": [
        {
          "name": "stdout",
          "output_type": "stream",
          "text": [
            "Lombardia\n"
          ]
        },
        {
          "output_type": "execute_result",
          "data": {
            "text/plain": [
              "264"
            ]
          },
          "metadata": {},
          "execution_count": 37
        }
      ]
    },
    {
      "cell_type": "markdown",
      "metadata": {
        "id": "BKqT4Ufhr2mX"
      },
      "source": [
        "Es.3"
      ]
    },
    {
      "cell_type": "code",
      "metadata": {
        "colab": {
          "base_uri": "https://localhost:8080/"
        },
        "id": "X4L3XEchsQXX",
        "outputId": "2960d108-32b7-41c0-d328-ab47549b53f4"
      },
      "source": [
        "Regione=input()\n",
        "if df.loc[df['nome_area']==Regione,'area'].count() >= 1:\n",
        "  print(df.loc[df['nome_area']==Regione,'area'].count())\n",
        "else:\n",
        " print('Region not avaible')"
      ],
      "execution_count": 38,
      "outputs": [
        {
          "output_type": "stream",
          "name": "stdout",
          "text": [
            "Calabria\n",
            "174\n"
          ]
        }
      ]
    },
    {
      "cell_type": "markdown",
      "metadata": {
        "id": "q8XyWcq0r4Zf"
      },
      "source": [
        "Es.4"
      ]
    },
    {
      "cell_type": "code",
      "metadata": {
        "colab": {
          "base_uri": "https://localhost:8080/"
        },
        "id": "2j6PdFLqsqEY",
        "outputId": "967d4e39-8b90-41e4-f209-3b4850fec324"
      },
      "source": [
        "Regione=input('Inserire nome regione:')\n",
        "df.loc[df['nome_area']==Regione,'numero_dosi'].count()"
      ],
      "execution_count": 39,
      "outputs": [
        {
          "name": "stdout",
          "output_type": "stream",
          "text": [
            "Inserire nome regione:Liguria\n"
          ]
        },
        {
          "output_type": "execute_result",
          "data": {
            "text/plain": [
              "244"
            ]
          },
          "metadata": {},
          "execution_count": 39
        }
      ]
    },
    {
      "cell_type": "markdown",
      "metadata": {
        "id": "HYgXIKAxr5zP"
      },
      "source": [
        "Es.5"
      ]
    },
    {
      "cell_type": "code",
      "metadata": {
        "colab": {
          "base_uri": "https://localhost:8080/"
        },
        "id": "m4L0w-MBs0i3",
        "outputId": "b3077c84-7494-488a-80ca-cf864d211166"
      },
      "source": [
        "df.groupby('fornitore')['numero_dosi'].sum() "
      ],
      "execution_count": 40,
      "outputs": [
        {
          "output_type": "execute_result",
          "data": {
            "text/plain": [
              "fornitore\n",
              "Janssen                     1846104\n",
              "Moderna                    15235940\n",
              "Pfizer/BioNTech            71327408\n",
              "Vaxzevria (AstraZeneca)    11544591\n",
              "Name: numero_dosi, dtype: int64"
            ]
          },
          "metadata": {},
          "execution_count": 40
        }
      ]
    },
    {
      "cell_type": "markdown",
      "metadata": {
        "id": "W5Mqd9T3r7NP"
      },
      "source": [
        "Es.6"
      ]
    },
    {
      "cell_type": "code",
      "metadata": {
        "colab": {
          "base_uri": "https://localhost:8080/",
          "height": 192
        },
        "id": "yrtBB4Zds56n",
        "outputId": "6d49d635-5cdf-4b78-dac1-b129530250d3"
      },
      "source": [
        "Regione=input('Scegliere la regione desiderata:')\n",
        "data=df.groupby(['nome_area','fornitore'],as_index=False).sum().sort_values('numero_dosi',ascending=False)\n",
        "data[data['nome_area']==Regione]"
      ],
      "execution_count": 41,
      "outputs": [
        {
          "name": "stdout",
          "output_type": "stream",
          "text": [
            "Scegliere la regione desiderata:Basilicata\n"
          ]
        },
        {
          "output_type": "execute_result",
          "data": {
            "text/html": [
              "<div>\n",
              "<style scoped>\n",
              "    .dataframe tbody tr th:only-of-type {\n",
              "        vertical-align: middle;\n",
              "    }\n",
              "\n",
              "    .dataframe tbody tr th {\n",
              "        vertical-align: top;\n",
              "    }\n",
              "\n",
              "    .dataframe thead th {\n",
              "        text-align: right;\n",
              "    }\n",
              "</style>\n",
              "<table border=\"1\" class=\"dataframe\">\n",
              "  <thead>\n",
              "    <tr style=\"text-align: right;\">\n",
              "      <th></th>\n",
              "      <th>nome_area</th>\n",
              "      <th>fornitore</th>\n",
              "      <th>numero_dosi</th>\n",
              "      <th>codice_regione_ISTAT</th>\n",
              "    </tr>\n",
              "  </thead>\n",
              "  <tbody>\n",
              "    <tr>\n",
              "      <th>6</th>\n",
              "      <td>Basilicata</td>\n",
              "      <td>Pfizer/BioNTech</td>\n",
              "      <td>660765</td>\n",
              "      <td>935</td>\n",
              "    </tr>\n",
              "    <tr>\n",
              "      <th>5</th>\n",
              "      <td>Basilicata</td>\n",
              "      <td>Moderna</td>\n",
              "      <td>138900</td>\n",
              "      <td>493</td>\n",
              "    </tr>\n",
              "    <tr>\n",
              "      <th>7</th>\n",
              "      <td>Basilicata</td>\n",
              "      <td>Vaxzevria (AstraZeneca)</td>\n",
              "      <td>117600</td>\n",
              "      <td>340</td>\n",
              "    </tr>\n",
              "    <tr>\n",
              "      <th>4</th>\n",
              "      <td>Basilicata</td>\n",
              "      <td>Janssen</td>\n",
              "      <td>19400</td>\n",
              "      <td>187</td>\n",
              "    </tr>\n",
              "  </tbody>\n",
              "</table>\n",
              "</div>"
            ],
            "text/plain": [
              "    nome_area                fornitore  numero_dosi  codice_regione_ISTAT\n",
              "6  Basilicata          Pfizer/BioNTech       660765                   935\n",
              "5  Basilicata                  Moderna       138900                   493\n",
              "7  Basilicata  Vaxzevria (AstraZeneca)       117600                   340\n",
              "4  Basilicata                  Janssen        19400                   187"
            ]
          },
          "metadata": {},
          "execution_count": 41
        }
      ]
    },
    {
      "cell_type": "markdown",
      "metadata": {
        "id": "1KL3fZ74r9Av"
      },
      "source": [
        "Es.7"
      ]
    },
    {
      "cell_type": "code",
      "metadata": {
        "colab": {
          "base_uri": "https://localhost:8080/",
          "height": 399
        },
        "id": "Qr4OVrlus6V3",
        "outputId": "861b3a8b-5577-430e-f0d6-eb2a5eea463f"
      },
      "source": [
        "fig = plt.figure()              \n",
        "ax = plt.axes()     \n",
        "\n",
        "ax.bar(data['fornitore'],data['numero_dosi'],color='Red')\n",
        "fig.autofmt_xdate(rotation=90)\n",
        "\n",
        "\n",
        "ax.set_xlabel('fornitore')\n",
        "ax.set_ylabel('numero dosi')\n",
        "\n",
        "fig.suptitle(Regione)\n",
        "plt.show()"
      ],
      "execution_count": 42,
      "outputs": [
        {
          "output_type": "display_data",
          "data": {
            "image/png": "[encoded data removed]",
            "text/plain": [
              "<Figure size 432x288 with 1 Axes>"
            ]
          },
          "metadata": {
            "needs_background": "light"
          }
        }
      ]
    },
    {
      "cell_type": "markdown",
      "metadata": {
        "id": "db9scPzksALY"
      },
      "source": [
        "Es.8"
      ]
    },
    {
      "cell_type": "code",
      "metadata": {
        "colab": {
          "base_uri": "https://localhost:8080/",
          "height": 421
        },
        "id": "05VpZpmrs6vf",
        "outputId": "ca128d46-f733-4ae8-c442-220cecb955e9"
      },
      "source": [
        "data=df.groupby(['fornitore'],as_index=False).sum().sort_values('numero_dosi',ascending=False)\n",
        "\n",
        "fig = plt.figure(figsize=[7,9])\n",
        "\n",
        "ax = plt.axes()\n",
        "ax.pie(data['numero_dosi'], labels=data['fornitore'], autopct='%1.2f%%')\n",
        "\n",
        "plt.show()"
      ],
      "execution_count": 43,
      "outputs": [
        {
          "output_type": "display_data",
          "data": {
            "image/png": "[encoded data removed]",
            "text/plain": [
              "<Figure size 504x648 with 1 Axes>"
            ]
          },
          "metadata": {}
        }
      ]
    },
    {
      "cell_type": "markdown",
      "metadata": {
        "id": "Avx8byNCsBW3"
      },
      "source": [
        "Es.9"
      ]
    },
    {
      "cell_type": "code",
      "metadata": {
        "colab": {
          "base_uri": "https://localhost:8080/",
          "height": 283
        },
        "id": "6muMy5kxs7fm",
        "outputId": "741b285b-2b76-471b-b629-dbe89d7c8803"
      },
      "source": [
        "!pip install squarify\n",
        "import squarify\n",
        "\n",
        "color_list=['y','r','b','c','w','r']\n",
        "plt.rc('font',size=10)\n",
        "squarify.plot(sizes=data['numero_dosi'],label=data['fornitore'],color=color_list,alpha=0.7)\n",
        "plt.axis('off')\n",
        "\n",
        "plt.show"
      ],
      "execution_count": 44,
      "outputs": [
        {
          "output_type": "stream",
          "name": "stdout",
          "text": [
            "Requirement already satisfied: squarify in /usr/local/lib/python3.7/dist-packages (0.4.3)\n"
          ]
        },
        {
          "output_type": "execute_result",
          "data": {
            "text/plain": [
              "<function matplotlib.pyplot.show>"
            ]
          },
          "metadata": {},
          "execution_count": 44
        },
        {
          "output_type": "display_data",
          "data": {
            "image/png": "[encoded data removed]",
            "text/plain": [
              "<Figure size 432x288 with 1 Axes>"
            ]
          },
          "metadata": {
            "needs_background": "light"
          }
        }
      ]
    },
    {
      "cell_type": "markdown",
      "metadata": {
        "id": "TZrB0cU8sCiP"
      },
      "source": [
        "Es.10"
      ]
    },
    {
      "cell_type": "code",
      "metadata": {
        "colab": {
          "base_uri": "https://localhost:8080/",
          "height": 143
        },
        "id": "EFfDKGkys8Uv",
        "outputId": "9325b925-6f41-4c8b-db33-b643e1370ac6"
      },
      "source": [
        "df.groupby(['nome_area'],as_index=False).agg({'numero_dosi':sum }).sort_values('numero_dosi',ascending=False).head(3) "
      ],
      "execution_count": 45,
      "outputs": [
        {
          "output_type": "execute_result",
          "data": {
            "text/html": [
              "<div>\n",
              "<style scoped>\n",
              "    .dataframe tbody tr th:only-of-type {\n",
              "        vertical-align: middle;\n",
              "    }\n",
              "\n",
              "    .dataframe tbody tr th {\n",
              "        vertical-align: top;\n",
              "    }\n",
              "\n",
              "    .dataframe thead th {\n",
              "        text-align: right;\n",
              "    }\n",
              "</style>\n",
              "<table border=\"1\" class=\"dataframe\">\n",
              "  <thead>\n",
              "    <tr style=\"text-align: right;\">\n",
              "      <th></th>\n",
              "      <th>nome_area</th>\n",
              "      <th>numero_dosi</th>\n",
              "    </tr>\n",
              "  </thead>\n",
              "  <tbody>\n",
              "    <tr>\n",
              "      <th>8</th>\n",
              "      <td>Lombardia</td>\n",
              "      <td>17274689</td>\n",
              "    </tr>\n",
              "    <tr>\n",
              "      <th>6</th>\n",
              "      <td>Lazio</td>\n",
              "      <td>10332809</td>\n",
              "    </tr>\n",
              "    <tr>\n",
              "      <th>3</th>\n",
              "      <td>Campania</td>\n",
              "      <td>9179718</td>\n",
              "    </tr>\n",
              "  </tbody>\n",
              "</table>\n",
              "</div>"
            ],
            "text/plain": [
              "   nome_area  numero_dosi\n",
              "8  Lombardia     17274689\n",
              "6      Lazio     10332809\n",
              "3   Campania      9179718"
            ]
          },
          "metadata": {},
          "execution_count": 45
        }
      ]
    },
    {
      "cell_type": "markdown",
      "metadata": {
        "id": "uxtRdvPcs9C_"
      },
      "source": [
        "Es.11"
      ]
    },
    {
      "cell_type": "code",
      "metadata": {
        "colab": {
          "base_uri": "https://localhost:8080/",
          "height": 426
        },
        "id": "qEvziHSss-qG",
        "outputId": "d66e9072-6ac0-4924-baa1-4390893d8d10"
      },
      "source": [
        "data=df.groupby(['nome_area'],as_index=False).agg({'numero_dosi':sum })\n",
        "data.loc[data['numero_dosi'] < data['numero_dosi'].mean(),['nome_area']]"
      ],
      "execution_count": 46,
      "outputs": [
        {
          "output_type": "execute_result",
          "data": {
            "text/html": [
              "<div>\n",
              "<style scoped>\n",
              "    .dataframe tbody tr th:only-of-type {\n",
              "        vertical-align: middle;\n",
              "    }\n",
              "\n",
              "    .dataframe tbody tr th {\n",
              "        vertical-align: top;\n",
              "    }\n",
              "\n",
              "    .dataframe thead th {\n",
              "        text-align: right;\n",
              "    }\n",
              "</style>\n",
              "<table border=\"1\" class=\"dataframe\">\n",
              "  <thead>\n",
              "    <tr style=\"text-align: right;\">\n",
              "      <th></th>\n",
              "      <th>nome_area</th>\n",
              "    </tr>\n",
              "  </thead>\n",
              "  <tbody>\n",
              "    <tr>\n",
              "      <th>0</th>\n",
              "      <td>Abruzzo</td>\n",
              "    </tr>\n",
              "    <tr>\n",
              "      <th>1</th>\n",
              "      <td>Basilicata</td>\n",
              "    </tr>\n",
              "    <tr>\n",
              "      <th>2</th>\n",
              "      <td>Calabria</td>\n",
              "    </tr>\n",
              "    <tr>\n",
              "      <th>5</th>\n",
              "      <td>Friuli-Venezia Giulia</td>\n",
              "    </tr>\n",
              "    <tr>\n",
              "      <th>7</th>\n",
              "      <td>Liguria</td>\n",
              "    </tr>\n",
              "    <tr>\n",
              "      <th>9</th>\n",
              "      <td>Marche</td>\n",
              "    </tr>\n",
              "    <tr>\n",
              "      <th>10</th>\n",
              "      <td>Molise</td>\n",
              "    </tr>\n",
              "    <tr>\n",
              "      <th>12</th>\n",
              "      <td>Provincia Autonoma Bolzano / Bozen</td>\n",
              "    </tr>\n",
              "    <tr>\n",
              "      <th>13</th>\n",
              "      <td>Provincia Autonoma Trento</td>\n",
              "    </tr>\n",
              "    <tr>\n",
              "      <th>15</th>\n",
              "      <td>Sardegna</td>\n",
              "    </tr>\n",
              "    <tr>\n",
              "      <th>18</th>\n",
              "      <td>Umbria</td>\n",
              "    </tr>\n",
              "    <tr>\n",
              "      <th>19</th>\n",
              "      <td>Valle d'Aosta / Vallée d'Aoste</td>\n",
              "    </tr>\n",
              "  </tbody>\n",
              "</table>\n",
              "</div>"
            ],
            "text/plain": [
              "                             nome_area\n",
              "0                              Abruzzo\n",
              "1                           Basilicata\n",
              "2                             Calabria\n",
              "5                Friuli-Venezia Giulia\n",
              "7                              Liguria\n",
              "9                               Marche\n",
              "10                              Molise\n",
              "12  Provincia Autonoma Bolzano / Bozen\n",
              "13           Provincia Autonoma Trento\n",
              "15                            Sardegna\n",
              "18                              Umbria\n",
              "19      Valle d'Aosta / Vallée d'Aoste"
            ]
          },
          "metadata": {},
          "execution_count": 46
        }
      ]
    },
    {
      "cell_type": "markdown",
      "metadata": {
        "id": "yE2JHtL0sDsX"
      },
      "source": [
        "Es.12"
      ]
    },
    {
      "cell_type": "code",
      "metadata": {
        "colab": {
          "base_uri": "https://localhost:8080/",
          "height": 360
        },
        "id": "NKp7L_PKtA0n",
        "outputId": "9ccaea3b-c2e7-4b14-dbfe-3efe07b0466e"
      },
      "source": [
        "LomLaz= (df['nome_area'].str.contains('Lombardia'))+(df['nome_area'].str.contains('Lazio'))\n",
        "fig = plt.figure()\n",
        "ax = plt.axes()\n",
        "ax.bar(LomLaz, df['numero_dosi'], color='b')\n",
        "\n",
        "ax.set_xlabel('Regioni')\n",
        "ax.set_ylabel('Dosi')\n",
        "fig.suptitle('Numero dosi per le Regioni')"
      ],
      "execution_count": 47,
      "outputs": [
        {
          "output_type": "stream",
          "name": "stderr",
          "text": [
            "/usr/local/lib/python3.7/dist-packages/pandas/core/computation/expressions.py:204: UserWarning: evaluating in Python space because the '+' operator is not supported by numexpr for the bool dtype, use '|' instead\n",
            "  f\"evaluating in Python space because the {repr(op_str)} \"\n"
          ]
        },
        {
          "output_type": "execute_result",
          "data": {
            "text/plain": [
              "Text(0.5, 0.98, 'Numero dosi per le Regioni')"
            ]
          },
          "metadata": {},
          "execution_count": 47
        },
        {
          "output_type": "display_data",
          "data": {
            "image/png": "[encoded data removed]",
            "text/plain": [
              "<Figure size 432x288 with 1 Axes>"
            ]
          },
          "metadata": {
            "needs_background": "light"
          }
        }
      ]
    }
  ]
}